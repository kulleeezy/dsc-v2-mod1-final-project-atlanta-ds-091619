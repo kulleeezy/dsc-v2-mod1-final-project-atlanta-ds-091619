{
 "cells": [
  {
   "cell_type": "markdown",
   "metadata": {},
   "source": [
    "## Final Project Submission\n",
    "\n",
    "* Kulle Omer \n",
    "* Full time\n",
    "* October 4th, 2019 4PM\n",
    "* Howard Smith \n",
    "* Blog post URL: https://medium.com/@kulleomer/why-i-decided-to-learn-data-science-96862b2819ce?sk=e370747e94a456bdfb55ad7c757a5aed\n"
   ]
  },
  {
   "cell_type": "markdown",
   "metadata": {},
   "source": [
    "## Introduction\n",
    "We are putting our fresh data science skills to use with this Kings County dataset project. First, we will use our knowledge to import the data into this notebook, clean the data, visualize it, and lastly model it with a multivariate regression line to predict the sale prices of houses as accurately as possible. \n",
    "\n",
    "The questions we will be answering with our data consist of:\n",
    "    <br> 1) Does location affect the sale price of houses in Kings County?\n",
    "    <br> 2) Does time of year affect the sale price of house in Kings County?\n",
    "    <br> 3) What feature(s) most significantly affect the sale prices of houses in Kings County?"
   ]
  },
  {
   "cell_type": "markdown",
   "metadata": {},
   "source": [
    "## Part 1: Import the Libraries and Data"
   ]
  },
  {
   "cell_type": "code",
   "execution_count": 1,
   "metadata": {},
   "outputs": [],
   "source": [
    "import pandas as pd\n",
    "import numpy as np\n",
    "import seaborn as sns\n",
    "import matplotlib.pyplot as plt\n",
    "%matplotlib inline\n",
    "\n",
    "\n",
    "df = pd.read_csv('kc_house_data.csv')\n",
    "#importing libraries and .csv file into the notebook"
   ]
  },
  {
   "cell_type": "code",
   "execution_count": 2,
   "metadata": {},
   "outputs": [
    {
     "data": {
      "text/html": [
       "<div>\n",
       "<style scoped>\n",
       "    .dataframe tbody tr th:only-of-type {\n",
       "        vertical-align: middle;\n",
       "    }\n",
       "\n",
       "    .dataframe tbody tr th {\n",
       "        vertical-align: top;\n",
       "    }\n",
       "\n",
       "    .dataframe thead th {\n",
       "        text-align: right;\n",
       "    }\n",
       "</style>\n",
       "<table border=\"1\" class=\"dataframe\">\n",
       "  <thead>\n",
       "    <tr style=\"text-align: right;\">\n",
       "      <th></th>\n",
       "      <th>id</th>\n",
       "      <th>date</th>\n",
       "      <th>price</th>\n",
       "      <th>bedrooms</th>\n",
       "      <th>bathrooms</th>\n",
       "      <th>sqft_living</th>\n",
       "      <th>sqft_lot</th>\n",
       "      <th>floors</th>\n",
       "      <th>waterfront</th>\n",
       "      <th>view</th>\n",
       "      <th>...</th>\n",
       "      <th>grade</th>\n",
       "      <th>sqft_above</th>\n",
       "      <th>sqft_basement</th>\n",
       "      <th>yr_built</th>\n",
       "      <th>yr_renovated</th>\n",
       "      <th>zipcode</th>\n",
       "      <th>lat</th>\n",
       "      <th>long</th>\n",
       "      <th>sqft_living15</th>\n",
       "      <th>sqft_lot15</th>\n",
       "    </tr>\n",
       "  </thead>\n",
       "  <tbody>\n",
       "    <tr>\n",
       "      <th>0</th>\n",
       "      <td>7129300520</td>\n",
       "      <td>10/13/2014</td>\n",
       "      <td>221900.0</td>\n",
       "      <td>3</td>\n",
       "      <td>1.00</td>\n",
       "      <td>1180</td>\n",
       "      <td>5650</td>\n",
       "      <td>1.0</td>\n",
       "      <td>NaN</td>\n",
       "      <td>0.0</td>\n",
       "      <td>...</td>\n",
       "      <td>7</td>\n",
       "      <td>1180</td>\n",
       "      <td>0.0</td>\n",
       "      <td>1955</td>\n",
       "      <td>0.0</td>\n",
       "      <td>98178</td>\n",
       "      <td>47.5112</td>\n",
       "      <td>-122.257</td>\n",
       "      <td>1340</td>\n",
       "      <td>5650</td>\n",
       "    </tr>\n",
       "    <tr>\n",
       "      <th>1</th>\n",
       "      <td>6414100192</td>\n",
       "      <td>12/9/2014</td>\n",
       "      <td>538000.0</td>\n",
       "      <td>3</td>\n",
       "      <td>2.25</td>\n",
       "      <td>2570</td>\n",
       "      <td>7242</td>\n",
       "      <td>2.0</td>\n",
       "      <td>0.0</td>\n",
       "      <td>0.0</td>\n",
       "      <td>...</td>\n",
       "      <td>7</td>\n",
       "      <td>2170</td>\n",
       "      <td>400.0</td>\n",
       "      <td>1951</td>\n",
       "      <td>1991.0</td>\n",
       "      <td>98125</td>\n",
       "      <td>47.7210</td>\n",
       "      <td>-122.319</td>\n",
       "      <td>1690</td>\n",
       "      <td>7639</td>\n",
       "    </tr>\n",
       "    <tr>\n",
       "      <th>2</th>\n",
       "      <td>5631500400</td>\n",
       "      <td>2/25/2015</td>\n",
       "      <td>180000.0</td>\n",
       "      <td>2</td>\n",
       "      <td>1.00</td>\n",
       "      <td>770</td>\n",
       "      <td>10000</td>\n",
       "      <td>1.0</td>\n",
       "      <td>0.0</td>\n",
       "      <td>0.0</td>\n",
       "      <td>...</td>\n",
       "      <td>6</td>\n",
       "      <td>770</td>\n",
       "      <td>0.0</td>\n",
       "      <td>1933</td>\n",
       "      <td>NaN</td>\n",
       "      <td>98028</td>\n",
       "      <td>47.7379</td>\n",
       "      <td>-122.233</td>\n",
       "      <td>2720</td>\n",
       "      <td>8062</td>\n",
       "    </tr>\n",
       "    <tr>\n",
       "      <th>3</th>\n",
       "      <td>2487200875</td>\n",
       "      <td>12/9/2014</td>\n",
       "      <td>604000.0</td>\n",
       "      <td>4</td>\n",
       "      <td>3.00</td>\n",
       "      <td>1960</td>\n",
       "      <td>5000</td>\n",
       "      <td>1.0</td>\n",
       "      <td>0.0</td>\n",
       "      <td>0.0</td>\n",
       "      <td>...</td>\n",
       "      <td>7</td>\n",
       "      <td>1050</td>\n",
       "      <td>910.0</td>\n",
       "      <td>1965</td>\n",
       "      <td>0.0</td>\n",
       "      <td>98136</td>\n",
       "      <td>47.5208</td>\n",
       "      <td>-122.393</td>\n",
       "      <td>1360</td>\n",
       "      <td>5000</td>\n",
       "    </tr>\n",
       "    <tr>\n",
       "      <th>4</th>\n",
       "      <td>1954400510</td>\n",
       "      <td>2/18/2015</td>\n",
       "      <td>510000.0</td>\n",
       "      <td>3</td>\n",
       "      <td>2.00</td>\n",
       "      <td>1680</td>\n",
       "      <td>8080</td>\n",
       "      <td>1.0</td>\n",
       "      <td>0.0</td>\n",
       "      <td>0.0</td>\n",
       "      <td>...</td>\n",
       "      <td>8</td>\n",
       "      <td>1680</td>\n",
       "      <td>0.0</td>\n",
       "      <td>1987</td>\n",
       "      <td>0.0</td>\n",
       "      <td>98074</td>\n",
       "      <td>47.6168</td>\n",
       "      <td>-122.045</td>\n",
       "      <td>1800</td>\n",
       "      <td>7503</td>\n",
       "    </tr>\n",
       "  </tbody>\n",
       "</table>\n",
       "<p>5 rows × 21 columns</p>\n",
       "</div>"
      ],
      "text/plain": [
       "           id        date     price  bedrooms  bathrooms  sqft_living  \\\n",
       "0  7129300520  10/13/2014  221900.0         3       1.00         1180   \n",
       "1  6414100192   12/9/2014  538000.0         3       2.25         2570   \n",
       "2  5631500400   2/25/2015  180000.0         2       1.00          770   \n",
       "3  2487200875   12/9/2014  604000.0         4       3.00         1960   \n",
       "4  1954400510   2/18/2015  510000.0         3       2.00         1680   \n",
       "\n",
       "   sqft_lot  floors  waterfront  view     ...      grade  sqft_above  \\\n",
       "0      5650     1.0         NaN   0.0     ...          7        1180   \n",
       "1      7242     2.0         0.0   0.0     ...          7        2170   \n",
       "2     10000     1.0         0.0   0.0     ...          6         770   \n",
       "3      5000     1.0         0.0   0.0     ...          7        1050   \n",
       "4      8080     1.0         0.0   0.0     ...          8        1680   \n",
       "\n",
       "   sqft_basement yr_built  yr_renovated  zipcode      lat     long  \\\n",
       "0            0.0     1955           0.0    98178  47.5112 -122.257   \n",
       "1          400.0     1951        1991.0    98125  47.7210 -122.319   \n",
       "2            0.0     1933           NaN    98028  47.7379 -122.233   \n",
       "3          910.0     1965           0.0    98136  47.5208 -122.393   \n",
       "4            0.0     1987           0.0    98074  47.6168 -122.045   \n",
       "\n",
       "   sqft_living15  sqft_lot15  \n",
       "0           1340        5650  \n",
       "1           1690        7639  \n",
       "2           2720        8062  \n",
       "3           1360        5000  \n",
       "4           1800        7503  \n",
       "\n",
       "[5 rows x 21 columns]"
      ]
     },
     "execution_count": 2,
     "metadata": {},
     "output_type": "execute_result"
    }
   ],
   "source": [
    "df.head()"
   ]
  },
  {
   "cell_type": "code",
   "execution_count": 3,
   "metadata": {},
   "outputs": [
    {
     "data": {
      "text/html": [
       "<div>\n",
       "<style scoped>\n",
       "    .dataframe tbody tr th:only-of-type {\n",
       "        vertical-align: middle;\n",
       "    }\n",
       "\n",
       "    .dataframe tbody tr th {\n",
       "        vertical-align: top;\n",
       "    }\n",
       "\n",
       "    .dataframe thead th {\n",
       "        text-align: right;\n",
       "    }\n",
       "</style>\n",
       "<table border=\"1\" class=\"dataframe\">\n",
       "  <thead>\n",
       "    <tr style=\"text-align: right;\">\n",
       "      <th></th>\n",
       "      <th>id</th>\n",
       "      <th>date</th>\n",
       "      <th>price</th>\n",
       "      <th>bedrooms</th>\n",
       "      <th>bathrooms</th>\n",
       "      <th>sqft_living</th>\n",
       "      <th>sqft_lot</th>\n",
       "      <th>floors</th>\n",
       "      <th>waterfront</th>\n",
       "      <th>view</th>\n",
       "      <th>...</th>\n",
       "      <th>grade</th>\n",
       "      <th>sqft_above</th>\n",
       "      <th>sqft_basement</th>\n",
       "      <th>yr_built</th>\n",
       "      <th>yr_renovated</th>\n",
       "      <th>zipcode</th>\n",
       "      <th>lat</th>\n",
       "      <th>long</th>\n",
       "      <th>sqft_living15</th>\n",
       "      <th>sqft_lot15</th>\n",
       "    </tr>\n",
       "  </thead>\n",
       "  <tbody>\n",
       "    <tr>\n",
       "      <th>0</th>\n",
       "      <td>7129300520</td>\n",
       "      <td>10/13/2014</td>\n",
       "      <td>221900.0</td>\n",
       "      <td>3</td>\n",
       "      <td>1.00</td>\n",
       "      <td>1180</td>\n",
       "      <td>5650</td>\n",
       "      <td>1.0</td>\n",
       "      <td>NaN</td>\n",
       "      <td>0.0</td>\n",
       "      <td>...</td>\n",
       "      <td>7</td>\n",
       "      <td>1180</td>\n",
       "      <td>0.0</td>\n",
       "      <td>1955</td>\n",
       "      <td>0.0</td>\n",
       "      <td>98178</td>\n",
       "      <td>47.5112</td>\n",
       "      <td>-122.257</td>\n",
       "      <td>1340</td>\n",
       "      <td>5650</td>\n",
       "    </tr>\n",
       "    <tr>\n",
       "      <th>1</th>\n",
       "      <td>6414100192</td>\n",
       "      <td>12/9/2014</td>\n",
       "      <td>538000.0</td>\n",
       "      <td>3</td>\n",
       "      <td>2.25</td>\n",
       "      <td>2570</td>\n",
       "      <td>7242</td>\n",
       "      <td>2.0</td>\n",
       "      <td>0.0</td>\n",
       "      <td>0.0</td>\n",
       "      <td>...</td>\n",
       "      <td>7</td>\n",
       "      <td>2170</td>\n",
       "      <td>400.0</td>\n",
       "      <td>1951</td>\n",
       "      <td>1991.0</td>\n",
       "      <td>98125</td>\n",
       "      <td>47.7210</td>\n",
       "      <td>-122.319</td>\n",
       "      <td>1690</td>\n",
       "      <td>7639</td>\n",
       "    </tr>\n",
       "    <tr>\n",
       "      <th>2</th>\n",
       "      <td>5631500400</td>\n",
       "      <td>2/25/2015</td>\n",
       "      <td>180000.0</td>\n",
       "      <td>2</td>\n",
       "      <td>1.00</td>\n",
       "      <td>770</td>\n",
       "      <td>10000</td>\n",
       "      <td>1.0</td>\n",
       "      <td>0.0</td>\n",
       "      <td>0.0</td>\n",
       "      <td>...</td>\n",
       "      <td>6</td>\n",
       "      <td>770</td>\n",
       "      <td>0.0</td>\n",
       "      <td>1933</td>\n",
       "      <td>NaN</td>\n",
       "      <td>98028</td>\n",
       "      <td>47.7379</td>\n",
       "      <td>-122.233</td>\n",
       "      <td>2720</td>\n",
       "      <td>8062</td>\n",
       "    </tr>\n",
       "    <tr>\n",
       "      <th>3</th>\n",
       "      <td>2487200875</td>\n",
       "      <td>12/9/2014</td>\n",
       "      <td>604000.0</td>\n",
       "      <td>4</td>\n",
       "      <td>3.00</td>\n",
       "      <td>1960</td>\n",
       "      <td>5000</td>\n",
       "      <td>1.0</td>\n",
       "      <td>0.0</td>\n",
       "      <td>0.0</td>\n",
       "      <td>...</td>\n",
       "      <td>7</td>\n",
       "      <td>1050</td>\n",
       "      <td>910.0</td>\n",
       "      <td>1965</td>\n",
       "      <td>0.0</td>\n",
       "      <td>98136</td>\n",
       "      <td>47.5208</td>\n",
       "      <td>-122.393</td>\n",
       "      <td>1360</td>\n",
       "      <td>5000</td>\n",
       "    </tr>\n",
       "    <tr>\n",
       "      <th>4</th>\n",
       "      <td>1954400510</td>\n",
       "      <td>2/18/2015</td>\n",
       "      <td>510000.0</td>\n",
       "      <td>3</td>\n",
       "      <td>2.00</td>\n",
       "      <td>1680</td>\n",
       "      <td>8080</td>\n",
       "      <td>1.0</td>\n",
       "      <td>0.0</td>\n",
       "      <td>0.0</td>\n",
       "      <td>...</td>\n",
       "      <td>8</td>\n",
       "      <td>1680</td>\n",
       "      <td>0.0</td>\n",
       "      <td>1987</td>\n",
       "      <td>0.0</td>\n",
       "      <td>98074</td>\n",
       "      <td>47.6168</td>\n",
       "      <td>-122.045</td>\n",
       "      <td>1800</td>\n",
       "      <td>7503</td>\n",
       "    </tr>\n",
       "  </tbody>\n",
       "</table>\n",
       "<p>5 rows × 21 columns</p>\n",
       "</div>"
      ],
      "text/plain": [
       "           id        date     price  bedrooms  bathrooms  sqft_living  \\\n",
       "0  7129300520  10/13/2014  221900.0         3       1.00         1180   \n",
       "1  6414100192   12/9/2014  538000.0         3       2.25         2570   \n",
       "2  5631500400   2/25/2015  180000.0         2       1.00          770   \n",
       "3  2487200875   12/9/2014  604000.0         4       3.00         1960   \n",
       "4  1954400510   2/18/2015  510000.0         3       2.00         1680   \n",
       "\n",
       "   sqft_lot  floors  waterfront  view     ...      grade  sqft_above  \\\n",
       "0      5650     1.0         NaN   0.0     ...          7        1180   \n",
       "1      7242     2.0         0.0   0.0     ...          7        2170   \n",
       "2     10000     1.0         0.0   0.0     ...          6         770   \n",
       "3      5000     1.0         0.0   0.0     ...          7        1050   \n",
       "4      8080     1.0         0.0   0.0     ...          8        1680   \n",
       "\n",
       "   sqft_basement yr_built  yr_renovated  zipcode      lat     long  \\\n",
       "0            0.0     1955           0.0    98178  47.5112 -122.257   \n",
       "1          400.0     1951        1991.0    98125  47.7210 -122.319   \n",
       "2            0.0     1933           NaN    98028  47.7379 -122.233   \n",
       "3          910.0     1965           0.0    98136  47.5208 -122.393   \n",
       "4            0.0     1987           0.0    98074  47.6168 -122.045   \n",
       "\n",
       "   sqft_living15  sqft_lot15  \n",
       "0           1340        5650  \n",
       "1           1690        7639  \n",
       "2           2720        8062  \n",
       "3           1360        5000  \n",
       "4           1800        7503  \n",
       "\n",
       "[5 rows x 21 columns]"
      ]
     },
     "execution_count": 3,
     "metadata": {},
     "output_type": "execute_result"
    }
   ],
   "source": [
    "df.head() #obtain first 5 rows of data into a DataFrame"
   ]
  },
  {
   "cell_type": "code",
   "execution_count": 4,
   "metadata": {},
   "outputs": [
    {
     "name": "stdout",
     "output_type": "stream",
     "text": [
      "(21597, 21)\n"
     ]
    }
   ],
   "source": [
    "print(df.shape) #obtain the number of rows and columns "
   ]
  },
  {
   "cell_type": "code",
   "execution_count": 5,
   "metadata": {},
   "outputs": [
    {
     "name": "stdout",
     "output_type": "stream",
     "text": [
      "<class 'pandas.core.frame.DataFrame'>\n",
      "RangeIndex: 21597 entries, 0 to 21596\n",
      "Data columns (total 21 columns):\n",
      "id               21597 non-null int64\n",
      "date             21597 non-null object\n",
      "price            21597 non-null float64\n",
      "bedrooms         21597 non-null int64\n",
      "bathrooms        21597 non-null float64\n",
      "sqft_living      21597 non-null int64\n",
      "sqft_lot         21597 non-null int64\n",
      "floors           21597 non-null float64\n",
      "waterfront       19221 non-null float64\n",
      "view             21534 non-null float64\n",
      "condition        21597 non-null int64\n",
      "grade            21597 non-null int64\n",
      "sqft_above       21597 non-null int64\n",
      "sqft_basement    21597 non-null object\n",
      "yr_built         21597 non-null int64\n",
      "yr_renovated     17755 non-null float64\n",
      "zipcode          21597 non-null int64\n",
      "lat              21597 non-null float64\n",
      "long             21597 non-null float64\n",
      "sqft_living15    21597 non-null int64\n",
      "sqft_lot15       21597 non-null int64\n",
      "dtypes: float64(8), int64(11), object(2)\n",
      "memory usage: 3.5+ MB\n"
     ]
    }
   ],
   "source": [
    "df.info() #obtain summary of the data"
   ]
  },
  {
   "cell_type": "code",
   "execution_count": 6,
   "metadata": {},
   "outputs": [
    {
     "data": {
      "text/plain": [
       "id               False\n",
       "date             False\n",
       "price            False\n",
       "bedrooms         False\n",
       "bathrooms        False\n",
       "sqft_living      False\n",
       "sqft_lot         False\n",
       "floors           False\n",
       "waterfront        True\n",
       "view              True\n",
       "condition        False\n",
       "grade            False\n",
       "sqft_above       False\n",
       "sqft_basement    False\n",
       "yr_built         False\n",
       "yr_renovated      True\n",
       "zipcode          False\n",
       "lat              False\n",
       "long             False\n",
       "sqft_living15    False\n",
       "sqft_lot15       False\n",
       "dtype: bool"
      ]
     },
     "execution_count": 6,
     "metadata": {},
     "output_type": "execute_result"
    }
   ],
   "source": [
    "df.isna().any() #finding columns with missing values"
   ]
  },
  {
   "cell_type": "code",
   "execution_count": 7,
   "metadata": {},
   "outputs": [
    {
     "data": {
      "text/plain": [
       "id                  0\n",
       "date                0\n",
       "price               0\n",
       "bedrooms            0\n",
       "bathrooms           0\n",
       "sqft_living         0\n",
       "sqft_lot            0\n",
       "floors              0\n",
       "waterfront       2376\n",
       "view               63\n",
       "condition           0\n",
       "grade               0\n",
       "sqft_above          0\n",
       "sqft_basement       0\n",
       "yr_built            0\n",
       "yr_renovated     3842\n",
       "zipcode             0\n",
       "lat                 0\n",
       "long                0\n",
       "sqft_living15       0\n",
       "sqft_lot15          0\n",
       "dtype: int64"
      ]
     },
     "execution_count": 7,
     "metadata": {},
     "output_type": "execute_result"
    }
   ],
   "source": [
    "df.isna().sum() #finding the amount of missing data in each column"
   ]
  },
  {
   "cell_type": "markdown",
   "metadata": {},
   "source": [
    "## Part 2: Time to Clean"
   ]
  },
  {
   "cell_type": "code",
   "execution_count": 8,
   "metadata": {},
   "outputs": [
    {
     "name": "stdout",
     "output_type": "stream",
     "text": [
      "count    19221.000000\n",
      "mean         0.007596\n",
      "std          0.086825\n",
      "min          0.000000\n",
      "25%          0.000000\n",
      "50%          0.000000\n",
      "75%          0.000000\n",
      "max          1.000000\n",
      "Name: waterfront, dtype: float64\n",
      "[nan  0.  1.]\n"
     ]
    }
   ],
   "source": [
    "# waterfront seems like a categorical variable that doesn't represent a continuous number. \n",
    "# running this code will allow me to see values in this dataset. \n",
    "# I will run this same code on the condition, grade, and view and datasets.\n",
    "print(df.waterfront.describe()) \n",
    "print(df.waterfront.unique())\n",
    "# values 0 and 1 tell me that it is true or false to have a waterfront"
   ]
  },
  {
   "cell_type": "code",
   "execution_count": 9,
   "metadata": {},
   "outputs": [
    {
     "name": "stdout",
     "output_type": "stream",
     "text": [
      "count    21597.000000\n",
      "mean         3.409825\n",
      "std          0.650546\n",
      "min          1.000000\n",
      "25%          3.000000\n",
      "50%          3.000000\n",
      "75%          4.000000\n",
      "max          5.000000\n",
      "Name: condition, dtype: float64\n",
      "[3 5 4 1 2]\n"
     ]
    }
   ],
   "source": [
    "print(df.condition.describe()) \n",
    "print(df.condition.unique())\n",
    "# This shows that this dataset is categorical and the values of it range from 1-5. "
   ]
  },
  {
   "cell_type": "code",
   "execution_count": 10,
   "metadata": {},
   "outputs": [
    {
     "name": "stdout",
     "output_type": "stream",
     "text": [
      "count    21597.000000\n",
      "mean         7.657915\n",
      "std          1.173200\n",
      "min          3.000000\n",
      "25%          7.000000\n",
      "50%          7.000000\n",
      "75%          8.000000\n",
      "max         13.000000\n",
      "Name: grade, dtype: float64\n",
      "[ 7  6  8 11  9  5 10 12  4  3 13]\n"
     ]
    }
   ],
   "source": [
    "print(df.grade.describe()) \n",
    "print(df.grade.unique())\n",
    "# This shows the grade dataset has values ranging from 1-13, and is indeed categorical."
   ]
  },
  {
   "cell_type": "code",
   "execution_count": 11,
   "metadata": {},
   "outputs": [],
   "source": [
    "# to make things easier I will convert all 3 of the datatypes above into strings.\n",
    "df.waterfront = df.waterfront.astype('str')\n",
    "df.condition = df.condition.astype('str')\n",
    "df.grade = df.grade.astype('str')"
   ]
  },
  {
   "cell_type": "code",
   "execution_count": 12,
   "metadata": {},
   "outputs": [
    {
     "name": "stdout",
     "output_type": "stream",
     "text": [
      "[ 0. nan  3.  4.  2.  1.]\n",
      "0.0    19422\n",
      "2.0      957\n",
      "3.0      508\n",
      "1.0      330\n",
      "4.0      317\n",
      "Name: view, dtype: int64\n",
      "63\n"
     ]
    }
   ],
   "source": [
    "# now, since the \"view\" is the amount of times a house has been viewed, it cannot be a float and must be changed into an int.\n",
    "print(df.view.unique())\n",
    "print(df.view.value_counts())\n",
    "print(df.view.isna().sum())"
   ]
  },
  {
   "cell_type": "code",
   "execution_count": 13,
   "metadata": {},
   "outputs": [],
   "source": [
    "# we have 63 NaN values, so we must replace them all with 0\n",
    "df.view.fillna(0, inplace=True)"
   ]
  },
  {
   "cell_type": "code",
   "execution_count": 14,
   "metadata": {},
   "outputs": [
    {
     "name": "stdout",
     "output_type": "stream",
     "text": [
      "[0. 3. 4. 2. 1.]\n"
     ]
    }
   ],
   "source": [
    "print(df.view.unique())"
   ]
  },
  {
   "cell_type": "code",
   "execution_count": 15,
   "metadata": {},
   "outputs": [],
   "source": [
    "# we are converting \"view\" to an int\n",
    "df.view = df.view.astype('int64')"
   ]
  },
  {
   "cell_type": "code",
   "execution_count": 16,
   "metadata": {},
   "outputs": [
    {
     "name": "stdout",
     "output_type": "stream",
     "text": [
      "[   0. 1991.   nan 2002. 2010. 1992. 2013. 1994. 1978. 2005. 2003. 1984.\n",
      " 1954. 2014. 2011. 1983. 1945. 1990. 1988. 1977. 1981. 1995. 2000. 1999.\n",
      " 1998. 1970. 1989. 2004. 1986. 2007. 1987. 2006. 1985. 2001. 1980. 1971.\n",
      " 1979. 1997. 1950. 1969. 1948. 2009. 2015. 1974. 2008. 1968. 2012. 1963.\n",
      " 1951. 1962. 1953. 1993. 1996. 1955. 1982. 1956. 1940. 1976. 1946. 1975.\n",
      " 1964. 1973. 1957. 1959. 1960. 1967. 1965. 1934. 1972. 1944. 1958.]\n",
      "\n"
     ]
    },
    {
     "data": {
      "text/html": [
       "<div>\n",
       "<style scoped>\n",
       "    .dataframe tbody tr th:only-of-type {\n",
       "        vertical-align: middle;\n",
       "    }\n",
       "\n",
       "    .dataframe tbody tr th {\n",
       "        vertical-align: top;\n",
       "    }\n",
       "\n",
       "    .dataframe thead th {\n",
       "        text-align: right;\n",
       "    }\n",
       "</style>\n",
       "<table border=\"1\" class=\"dataframe\">\n",
       "  <thead>\n",
       "    <tr style=\"text-align: right;\">\n",
       "      <th></th>\n",
       "      <th>yr_built</th>\n",
       "      <th>yr_renovated</th>\n",
       "    </tr>\n",
       "  </thead>\n",
       "  <tbody>\n",
       "    <tr>\n",
       "      <th>count</th>\n",
       "      <td>21597.000000</td>\n",
       "      <td>17755.000000</td>\n",
       "    </tr>\n",
       "    <tr>\n",
       "      <th>mean</th>\n",
       "      <td>1970.999676</td>\n",
       "      <td>83.636778</td>\n",
       "    </tr>\n",
       "    <tr>\n",
       "      <th>std</th>\n",
       "      <td>29.375234</td>\n",
       "      <td>399.946414</td>\n",
       "    </tr>\n",
       "    <tr>\n",
       "      <th>min</th>\n",
       "      <td>1900.000000</td>\n",
       "      <td>0.000000</td>\n",
       "    </tr>\n",
       "    <tr>\n",
       "      <th>25%</th>\n",
       "      <td>1951.000000</td>\n",
       "      <td>0.000000</td>\n",
       "    </tr>\n",
       "    <tr>\n",
       "      <th>50%</th>\n",
       "      <td>1975.000000</td>\n",
       "      <td>0.000000</td>\n",
       "    </tr>\n",
       "    <tr>\n",
       "      <th>75%</th>\n",
       "      <td>1997.000000</td>\n",
       "      <td>0.000000</td>\n",
       "    </tr>\n",
       "    <tr>\n",
       "      <th>max</th>\n",
       "      <td>2015.000000</td>\n",
       "      <td>2015.000000</td>\n",
       "    </tr>\n",
       "  </tbody>\n",
       "</table>\n",
       "</div>"
      ],
      "text/plain": [
       "           yr_built  yr_renovated\n",
       "count  21597.000000  17755.000000\n",
       "mean    1970.999676     83.636778\n",
       "std       29.375234    399.946414\n",
       "min     1900.000000      0.000000\n",
       "25%     1951.000000      0.000000\n",
       "50%     1975.000000      0.000000\n",
       "75%     1997.000000      0.000000\n",
       "max     2015.000000   2015.000000"
      ]
     },
     "execution_count": 16,
     "metadata": {},
     "output_type": "execute_result"
    }
   ],
   "source": [
    "# yr_renovated is also a float and should be converted to an int\n",
    "print(df.yr_renovated.unique())\n",
    "print()\n",
    "# we are also going to compare the statistics of \"yr_renovated\" and \"yr_built\"\n",
    "subsets = ['yr_built', 'yr_renovated']\n",
    "df[subsets].describe()"
   ]
  },
  {
   "cell_type": "code",
   "execution_count": 17,
   "metadata": {},
   "outputs": [
    {
     "data": {
      "text/plain": [
       "3842"
      ]
     },
     "execution_count": 17,
     "metadata": {},
     "output_type": "execute_result"
    }
   ],
   "source": [
    "# lets check how many missing values the \"yr_renovated\" column has\n",
    "df.yr_renovated.isna().sum()"
   ]
  },
  {
   "cell_type": "code",
   "execution_count": 18,
   "metadata": {},
   "outputs": [
    {
     "name": "stdout",
     "output_type": "stream",
     "text": [
      "[no_reno, 1990-1999, NaN, 2000-2015, before 1980, 1980-1989]\n",
      "Categories (5, object): [no_reno < before 1980 < 1980-1989 < 1990-1999 < 2000-2015]\n",
      "no_reno        17020\n",
      "2000-2015        365\n",
      "1990-1999        143\n",
      "1980-1989        124\n",
      "before 1980       89\n",
      "Name: reno_year, dtype: int64\n"
     ]
    }
   ],
   "source": [
    "# lets bin a new category for the houses with null values in \"yr_renovated\" \n",
    "# we're going to assume that these values mean that they were never renovated.\n",
    "bins = [0., 1950., 1980., 1990., 2000., 2015.]\n",
    "names = ['no_reno', 'before 1980', '1980-1989', '1990-1999', '2000-2015']\n",
    "df['reno_year'] = pd.cut(df['yr_renovated'], bins, labels=names, right=False)\n",
    "\n",
    "print(df.reno_year.unique())\n",
    "print(df.reno_year.value_counts())"
   ]
  },
  {
   "cell_type": "code",
   "execution_count": 19,
   "metadata": {},
   "outputs": [
    {
     "data": {
      "text/plain": [
       "3856"
      ]
     },
     "execution_count": 19,
     "metadata": {},
     "output_type": "execute_result"
    }
   ],
   "source": [
    "# now lets check all null values we have\n",
    "df.reno_year.isna().sum()"
   ]
  },
  {
   "cell_type": "code",
   "execution_count": 20,
   "metadata": {},
   "outputs": [
    {
     "name": "stdout",
     "output_type": "stream",
     "text": [
      "no_reno        20876\n",
      "2000-2015        365\n",
      "1990-1999        143\n",
      "1980-1989        124\n",
      "before 1980       89\n",
      "Name: reno_year, dtype: int64\n"
     ]
    }
   ],
   "source": [
    "# here we are going to replace these null values to \"no_reno\"\n",
    "df.reno_year.fillna('no_reno', inplace=True)\n",
    "print(df.reno_year.value_counts())"
   ]
  },
  {
   "cell_type": "code",
   "execution_count": 21,
   "metadata": {},
   "outputs": [
    {
     "data": {
      "text/plain": [
       "0"
      ]
     },
     "execution_count": 21,
     "metadata": {},
     "output_type": "execute_result"
    }
   ],
   "source": [
    "# finally, lets see if all that worked!\n",
    "df.reno_year.isna().sum()"
   ]
  },
  {
   "cell_type": "code",
   "execution_count": 22,
   "metadata": {},
   "outputs": [
    {
     "data": {
      "text/plain": [
       "array(['0.0', '400.0', '910.0', '1530.0', '?', '730.0', '1700.0', '300.0',\n",
       "       '970.0', '760.0', '720.0', '700.0', '820.0', '780.0', '790.0',\n",
       "       '330.0', '1620.0', '360.0', '588.0', '1510.0', '410.0', '990.0',\n",
       "       '600.0', '560.0', '550.0', '1000.0', '1600.0', '500.0', '1040.0',\n",
       "       '880.0', '1010.0', '240.0', '265.0', '290.0', '800.0', '540.0',\n",
       "       '710.0', '840.0', '380.0', '770.0', '480.0', '570.0', '1490.0',\n",
       "       '620.0', '1250.0', '1270.0', '120.0', '650.0', '180.0', '1130.0',\n",
       "       '450.0', '1640.0', '1460.0', '1020.0', '1030.0', '750.0', '640.0',\n",
       "       '1070.0', '490.0', '1310.0', '630.0', '2000.0', '390.0', '430.0',\n",
       "       '850.0', '210.0', '1430.0', '1950.0', '440.0', '220.0', '1160.0',\n",
       "       '860.0', '580.0', '2060.0', '1820.0', '1180.0', '200.0', '1150.0',\n",
       "       '1200.0', '680.0', '530.0', '1450.0', '1170.0', '1080.0', '960.0',\n",
       "       '280.0', '870.0', '1100.0', '460.0', '1400.0', '660.0', '1220.0',\n",
       "       '900.0', '420.0', '1580.0', '1380.0', '475.0', '690.0', '270.0',\n",
       "       '350.0', '935.0', '1370.0', '980.0', '1470.0', '160.0', '950.0',\n",
       "       '50.0', '740.0', '1780.0', '1900.0', '340.0', '470.0', '370.0',\n",
       "       '140.0', '1760.0', '130.0', '520.0', '890.0', '1110.0', '150.0',\n",
       "       '1720.0', '810.0', '190.0', '1290.0', '670.0', '1800.0', '1120.0',\n",
       "       '1810.0', '60.0', '1050.0', '940.0', '310.0', '930.0', '1390.0',\n",
       "       '610.0', '1830.0', '1300.0', '510.0', '1330.0', '1590.0', '920.0',\n",
       "       '1320.0', '1420.0', '1240.0', '1960.0', '1560.0', '2020.0',\n",
       "       '1190.0', '2110.0', '1280.0', '250.0', '2390.0', '1230.0', '170.0',\n",
       "       '830.0', '1260.0', '1410.0', '1340.0', '590.0', '1500.0', '1140.0',\n",
       "       '260.0', '100.0', '320.0', '1480.0', '1060.0', '1284.0', '1670.0',\n",
       "       '1350.0', '2570.0', '1090.0', '110.0', '2500.0', '90.0', '1940.0',\n",
       "       '1550.0', '2350.0', '2490.0', '1481.0', '1360.0', '1135.0',\n",
       "       '1520.0', '1850.0', '1660.0', '2130.0', '2600.0', '1690.0',\n",
       "       '243.0', '1210.0', '1024.0', '1798.0', '1610.0', '1440.0',\n",
       "       '1570.0', '1650.0', '704.0', '1910.0', '1630.0', '2360.0',\n",
       "       '1852.0', '2090.0', '2400.0', '1790.0', '2150.0', '230.0', '70.0',\n",
       "       '1680.0', '2100.0', '3000.0', '1870.0', '1710.0', '2030.0',\n",
       "       '875.0', '1540.0', '2850.0', '2170.0', '506.0', '906.0', '145.0',\n",
       "       '2040.0', '784.0', '1750.0', '374.0', '518.0', '2720.0', '2730.0',\n",
       "       '1840.0', '3480.0', '2160.0', '1920.0', '2330.0', '1860.0',\n",
       "       '2050.0', '4820.0', '1913.0', '80.0', '2010.0', '3260.0', '2200.0',\n",
       "       '415.0', '1730.0', '652.0', '2196.0', '1930.0', '515.0', '40.0',\n",
       "       '2080.0', '2580.0', '1548.0', '1740.0', '235.0', '861.0', '1890.0',\n",
       "       '2220.0', '792.0', '2070.0', '4130.0', '2250.0', '2240.0',\n",
       "       '1990.0', '768.0', '2550.0', '435.0', '1008.0', '2300.0', '2610.0',\n",
       "       '666.0', '3500.0', '172.0', '1816.0', '2190.0', '1245.0', '1525.0',\n",
       "       '1880.0', '862.0', '946.0', '1281.0', '414.0', '2180.0', '276.0',\n",
       "       '1248.0', '602.0', '516.0', '176.0', '225.0', '1275.0', '266.0',\n",
       "       '283.0', '65.0', '2310.0', '10.0', '1770.0', '2120.0', '295.0',\n",
       "       '207.0', '915.0', '556.0', '417.0', '143.0', '508.0', '2810.0',\n",
       "       '20.0', '274.0', '248.0'], dtype=object)"
      ]
     },
     "execution_count": 22,
     "metadata": {},
     "output_type": "execute_result"
    }
   ],
   "source": [
    "# so the category \"sqft_basement\" is a string but we know that square ft is a number or int\n",
    "df.sqft_basement.unique()"
   ]
  },
  {
   "cell_type": "code",
   "execution_count": 23,
   "metadata": {},
   "outputs": [
    {
     "data": {
      "text/plain": [
       "454"
      ]
     },
     "execution_count": 23,
     "metadata": {},
     "output_type": "execute_result"
    }
   ],
   "source": [
    "# there were question marks in the data that may have caused it to be a string. \n",
    "# we are going to query through the data and see how many question marks there are\n",
    "len(df.query(\"sqft_basement == '?'\"))"
   ]
  },
  {
   "cell_type": "code",
   "execution_count": 24,
   "metadata": {},
   "outputs": [],
   "source": [
    "# here we are going to replace all the question marks to 0.\n",
    "df.sqft_basement.replace(['?'], '0', inplace=True)"
   ]
  },
  {
   "cell_type": "code",
   "execution_count": 25,
   "metadata": {},
   "outputs": [],
   "source": [
    "# here we are going to change it to a float and int\n",
    "df.sqft_basement = df.sqft_basement.astype('float').astype('int')"
   ]
  },
  {
   "cell_type": "code",
   "execution_count": 26,
   "metadata": {},
   "outputs": [
    {
     "name": "stdout",
     "output_type": "stream",
     "text": [
      "[   0  400  910 1530  730 1700  300  970  760  720  700  820  780  790\n",
      "  330 1620  360  588 1510  410  990  600  560  550 1000 1600  500 1040\n",
      "  880 1010  240  265  290  800  540  710  840  380  770  480  570 1490\n",
      "  620 1250 1270  120  650  180 1130  450 1640 1460 1020 1030  750  640\n",
      " 1070  490 1310  630 2000  390  430  850  210 1430 1950  440  220 1160\n",
      "  860  580 2060 1820 1180  200 1150 1200  680  530 1450 1170 1080  960\n",
      "  280  870 1100  460 1400  660 1220  900  420 1580 1380  475  690  270\n",
      "  350  935 1370  980 1470  160  950   50  740 1780 1900  340  470  370\n",
      "  140 1760  130  520  890 1110  150 1720  810  190 1290  670 1800 1120\n",
      " 1810   60 1050  940  310  930 1390  610 1830 1300  510 1330 1590  920\n",
      " 1320 1420 1240 1960 1560 2020 1190 2110 1280  250 2390 1230  170  830\n",
      " 1260 1410 1340  590 1500 1140  260  100  320 1480 1060 1284 1670 1350\n",
      " 2570 1090  110 2500   90 1940 1550 2350 2490 1481 1360 1135 1520 1850\n",
      " 1660 2130 2600 1690  243 1210 1024 1798 1610 1440 1570 1650  704 1910\n",
      " 1630 2360 1852 2090 2400 1790 2150  230   70 1680 2100 3000 1870 1710\n",
      " 2030  875 1540 2850 2170  506  906  145 2040  784 1750  374  518 2720\n",
      " 2730 1840 3480 2160 1920 2330 1860 2050 4820 1913   80 2010 3260 2200\n",
      "  415 1730  652 2196 1930  515   40 2080 2580 1548 1740  235  861 1890\n",
      " 2220  792 2070 4130 2250 2240 1990  768 2550  435 1008 2300 2610  666\n",
      " 3500  172 1816 2190 1245 1525 1880  862  946 1281  414 2180  276 1248\n",
      "  602  516  176  225 1275  266  283   65 2310   10 1770 2120  295  207\n",
      "  915  556  417  143  508 2810   20  274  248]\n"
     ]
    }
   ],
   "source": [
    "# lets check if it worked\n",
    "print(df.sqft_basement.unique())"
   ]
  },
  {
   "cell_type": "code",
   "execution_count": 27,
   "metadata": {},
   "outputs": [
    {
     "name": "stdout",
     "output_type": "stream",
     "text": [
      "id                  int64\n",
      "date               object\n",
      "price             float64\n",
      "bedrooms            int64\n",
      "bathrooms         float64\n",
      "sqft_living         int64\n",
      "sqft_lot            int64\n",
      "floors            float64\n",
      "waterfront         object\n",
      "view                int64\n",
      "condition          object\n",
      "grade              object\n",
      "sqft_above          int64\n",
      "sqft_basement       int64\n",
      "yr_built            int64\n",
      "yr_renovated      float64\n",
      "zipcode             int64\n",
      "lat               float64\n",
      "long              float64\n",
      "sqft_living15       int64\n",
      "sqft_lot15          int64\n",
      "reno_year        category\n",
      "dtype: object\n"
     ]
    }
   ],
   "source": [
    "# lets also double check all the datatypes to see if everything is intact\n",
    "print(df.dtypes)"
   ]
  },
  {
   "cell_type": "code",
   "execution_count": 28,
   "metadata": {},
   "outputs": [
    {
     "name": "stdout",
     "output_type": "stream",
     "text": [
      "id                  0\n",
      "date                0\n",
      "price               0\n",
      "bedrooms            0\n",
      "bathrooms           0\n",
      "sqft_living         0\n",
      "sqft_lot            0\n",
      "floors              0\n",
      "waterfront          0\n",
      "view                0\n",
      "condition           0\n",
      "grade               0\n",
      "sqft_above          0\n",
      "sqft_basement       0\n",
      "yr_built            0\n",
      "yr_renovated     3842\n",
      "zipcode             0\n",
      "lat                 0\n",
      "long                0\n",
      "sqft_living15       0\n",
      "sqft_lot15          0\n",
      "reno_year           0\n",
      "dtype: int64\n"
     ]
    }
   ],
   "source": [
    "# lets also see if we have any null values\n",
    "print(df.isna().sum())"
   ]
  },
  {
   "cell_type": "code",
   "execution_count": 29,
   "metadata": {},
   "outputs": [
    {
     "data": {
      "text/html": [
       "<div>\n",
       "<style scoped>\n",
       "    .dataframe tbody tr th:only-of-type {\n",
       "        vertical-align: middle;\n",
       "    }\n",
       "\n",
       "    .dataframe tbody tr th {\n",
       "        vertical-align: top;\n",
       "    }\n",
       "\n",
       "    .dataframe thead th {\n",
       "        text-align: right;\n",
       "    }\n",
       "</style>\n",
       "<table border=\"1\" class=\"dataframe\">\n",
       "  <thead>\n",
       "    <tr style=\"text-align: right;\">\n",
       "      <th></th>\n",
       "      <th>id</th>\n",
       "      <th>date</th>\n",
       "      <th>price</th>\n",
       "      <th>bedrooms</th>\n",
       "      <th>bathrooms</th>\n",
       "      <th>sqft_living</th>\n",
       "      <th>sqft_lot</th>\n",
       "      <th>floors</th>\n",
       "      <th>waterfront</th>\n",
       "      <th>view</th>\n",
       "      <th>...</th>\n",
       "      <th>sqft_above</th>\n",
       "      <th>sqft_basement</th>\n",
       "      <th>yr_built</th>\n",
       "      <th>yr_renovated</th>\n",
       "      <th>zipcode</th>\n",
       "      <th>lat</th>\n",
       "      <th>long</th>\n",
       "      <th>sqft_living15</th>\n",
       "      <th>sqft_lot15</th>\n",
       "      <th>reno_year</th>\n",
       "    </tr>\n",
       "  </thead>\n",
       "  <tbody>\n",
       "    <tr>\n",
       "      <th>0</th>\n",
       "      <td>7129300520</td>\n",
       "      <td>10/13/2014</td>\n",
       "      <td>221900.0</td>\n",
       "      <td>3</td>\n",
       "      <td>1.0</td>\n",
       "      <td>1180</td>\n",
       "      <td>5650</td>\n",
       "      <td>1.0</td>\n",
       "      <td>nan</td>\n",
       "      <td>0</td>\n",
       "      <td>...</td>\n",
       "      <td>1180</td>\n",
       "      <td>0</td>\n",
       "      <td>1955</td>\n",
       "      <td>0.0</td>\n",
       "      <td>98178</td>\n",
       "      <td>47.5112</td>\n",
       "      <td>-122.257</td>\n",
       "      <td>1340</td>\n",
       "      <td>5650</td>\n",
       "      <td>no_reno</td>\n",
       "    </tr>\n",
       "  </tbody>\n",
       "</table>\n",
       "<p>1 rows × 22 columns</p>\n",
       "</div>"
      ],
      "text/plain": [
       "           id        date     price  bedrooms  bathrooms  sqft_living  \\\n",
       "0  7129300520  10/13/2014  221900.0         3        1.0         1180   \n",
       "\n",
       "   sqft_lot  floors waterfront  view    ...     sqft_above sqft_basement  \\\n",
       "0      5650     1.0        nan     0    ...           1180             0   \n",
       "\n",
       "   yr_built  yr_renovated  zipcode      lat     long  sqft_living15  \\\n",
       "0      1955           0.0    98178  47.5112 -122.257           1340   \n",
       "\n",
       "   sqft_lot15  reno_year  \n",
       "0        5650    no_reno  \n",
       "\n",
       "[1 rows x 22 columns]"
      ]
     },
     "execution_count": 29,
     "metadata": {},
     "output_type": "execute_result"
    }
   ],
   "source": [
    "# now we are going to check for multicollinearity and correlation \n",
    "df.head(1)"
   ]
  },
  {
   "cell_type": "code",
   "execution_count": 30,
   "metadata": {},
   "outputs": [
    {
     "data": {
      "text/html": [
       "<div>\n",
       "<style scoped>\n",
       "    .dataframe tbody tr th:only-of-type {\n",
       "        vertical-align: middle;\n",
       "    }\n",
       "\n",
       "    .dataframe tbody tr th {\n",
       "        vertical-align: top;\n",
       "    }\n",
       "\n",
       "    .dataframe thead th {\n",
       "        text-align: right;\n",
       "    }\n",
       "</style>\n",
       "<table border=\"1\" class=\"dataframe\">\n",
       "  <thead>\n",
       "    <tr style=\"text-align: right;\">\n",
       "      <th></th>\n",
       "      <th>bedrooms</th>\n",
       "      <th>bathrooms</th>\n",
       "      <th>sqft_living</th>\n",
       "      <th>sqft_lot</th>\n",
       "      <th>floors</th>\n",
       "      <th>waterfront</th>\n",
       "      <th>view</th>\n",
       "      <th>condition</th>\n",
       "      <th>grade</th>\n",
       "      <th>sqft_above</th>\n",
       "      <th>sqft_basement</th>\n",
       "      <th>yr_built</th>\n",
       "      <th>yr_renovated</th>\n",
       "      <th>zipcode</th>\n",
       "      <th>lat</th>\n",
       "      <th>long</th>\n",
       "      <th>sqft_living15</th>\n",
       "      <th>sqft_lot15</th>\n",
       "      <th>reno_year</th>\n",
       "    </tr>\n",
       "  </thead>\n",
       "  <tbody>\n",
       "    <tr>\n",
       "      <th>0</th>\n",
       "      <td>3</td>\n",
       "      <td>1.0</td>\n",
       "      <td>1180</td>\n",
       "      <td>5650</td>\n",
       "      <td>1.0</td>\n",
       "      <td>nan</td>\n",
       "      <td>0</td>\n",
       "      <td>3</td>\n",
       "      <td>7</td>\n",
       "      <td>1180</td>\n",
       "      <td>0</td>\n",
       "      <td>1955</td>\n",
       "      <td>0.0</td>\n",
       "      <td>98178</td>\n",
       "      <td>47.5112</td>\n",
       "      <td>-122.257</td>\n",
       "      <td>1340</td>\n",
       "      <td>5650</td>\n",
       "      <td>no_reno</td>\n",
       "    </tr>\n",
       "  </tbody>\n",
       "</table>\n",
       "</div>"
      ],
      "text/plain": [
       "   bedrooms  bathrooms  sqft_living  sqft_lot  floors waterfront  view  \\\n",
       "0         3        1.0         1180      5650     1.0        nan     0   \n",
       "\n",
       "  condition grade  sqft_above  sqft_basement  yr_built  yr_renovated  zipcode  \\\n",
       "0         3     7        1180              0      1955           0.0    98178   \n",
       "\n",
       "       lat     long  sqft_living15  sqft_lot15 reno_year  \n",
       "0  47.5112 -122.257           1340        5650   no_reno  "
      ]
     },
     "execution_count": 30,
     "metadata": {},
     "output_type": "execute_result"
    }
   ],
   "source": [
    "# we are going to disregard the columns id, date, and price\n",
    "df_preds = df.iloc[:,3:]\n",
    "df_target = df.iloc[:,2:3]\n",
    "\n",
    "df_preds.head(1)"
   ]
  },
  {
   "cell_type": "code",
   "execution_count": 31,
   "metadata": {},
   "outputs": [
    {
     "data": {
      "text/html": [
       "<div>\n",
       "<style scoped>\n",
       "    .dataframe tbody tr th:only-of-type {\n",
       "        vertical-align: middle;\n",
       "    }\n",
       "\n",
       "    .dataframe tbody tr th {\n",
       "        vertical-align: top;\n",
       "    }\n",
       "\n",
       "    .dataframe thead th {\n",
       "        text-align: right;\n",
       "    }\n",
       "</style>\n",
       "<table border=\"1\" class=\"dataframe\">\n",
       "  <thead>\n",
       "    <tr style=\"text-align: right;\">\n",
       "      <th></th>\n",
       "      <th>bedrooms</th>\n",
       "      <th>bathrooms</th>\n",
       "      <th>sqft_living</th>\n",
       "      <th>sqft_lot</th>\n",
       "      <th>floors</th>\n",
       "      <th>view</th>\n",
       "      <th>sqft_above</th>\n",
       "      <th>sqft_basement</th>\n",
       "      <th>yr_built</th>\n",
       "      <th>yr_renovated</th>\n",
       "      <th>zipcode</th>\n",
       "      <th>lat</th>\n",
       "      <th>long</th>\n",
       "      <th>sqft_living15</th>\n",
       "      <th>sqft_lot15</th>\n",
       "    </tr>\n",
       "  </thead>\n",
       "  <tbody>\n",
       "    <tr>\n",
       "      <th>bedrooms</th>\n",
       "      <td>1.000000</td>\n",
       "      <td>0.514508</td>\n",
       "      <td>0.578212</td>\n",
       "      <td>0.032471</td>\n",
       "      <td>0.177944</td>\n",
       "      <td>0.078354</td>\n",
       "      <td>0.479386</td>\n",
       "      <td>0.297229</td>\n",
       "      <td>0.155670</td>\n",
       "      <td>0.018495</td>\n",
       "      <td>-0.154092</td>\n",
       "      <td>-0.009951</td>\n",
       "      <td>0.132054</td>\n",
       "      <td>0.393406</td>\n",
       "      <td>0.030690</td>\n",
       "    </tr>\n",
       "    <tr>\n",
       "      <th>bathrooms</th>\n",
       "      <td>0.514508</td>\n",
       "      <td>1.000000</td>\n",
       "      <td>0.755758</td>\n",
       "      <td>0.088373</td>\n",
       "      <td>0.502582</td>\n",
       "      <td>0.186016</td>\n",
       "      <td>0.686668</td>\n",
       "      <td>0.278485</td>\n",
       "      <td>0.507173</td>\n",
       "      <td>0.051050</td>\n",
       "      <td>-0.204786</td>\n",
       "      <td>0.024280</td>\n",
       "      <td>0.224903</td>\n",
       "      <td>0.569884</td>\n",
       "      <td>0.088303</td>\n",
       "    </tr>\n",
       "    <tr>\n",
       "      <th>sqft_living</th>\n",
       "      <td>0.578212</td>\n",
       "      <td>0.755758</td>\n",
       "      <td>1.000000</td>\n",
       "      <td>0.173453</td>\n",
       "      <td>0.353953</td>\n",
       "      <td>0.281715</td>\n",
       "      <td>0.876448</td>\n",
       "      <td>0.428660</td>\n",
       "      <td>0.318152</td>\n",
       "      <td>0.055660</td>\n",
       "      <td>-0.199802</td>\n",
       "      <td>0.052155</td>\n",
       "      <td>0.241214</td>\n",
       "      <td>0.756402</td>\n",
       "      <td>0.184342</td>\n",
       "    </tr>\n",
       "    <tr>\n",
       "      <th>sqft_lot</th>\n",
       "      <td>0.032471</td>\n",
       "      <td>0.088373</td>\n",
       "      <td>0.173453</td>\n",
       "      <td>1.000000</td>\n",
       "      <td>-0.004814</td>\n",
       "      <td>0.075054</td>\n",
       "      <td>0.184139</td>\n",
       "      <td>0.015031</td>\n",
       "      <td>0.052946</td>\n",
       "      <td>0.004513</td>\n",
       "      <td>-0.129586</td>\n",
       "      <td>-0.085514</td>\n",
       "      <td>0.230227</td>\n",
       "      <td>0.144763</td>\n",
       "      <td>0.718204</td>\n",
       "    </tr>\n",
       "    <tr>\n",
       "      <th>floors</th>\n",
       "      <td>0.177944</td>\n",
       "      <td>0.502582</td>\n",
       "      <td>0.353953</td>\n",
       "      <td>-0.004814</td>\n",
       "      <td>1.000000</td>\n",
       "      <td>0.028414</td>\n",
       "      <td>0.523989</td>\n",
       "      <td>-0.241866</td>\n",
       "      <td>0.489193</td>\n",
       "      <td>0.003535</td>\n",
       "      <td>-0.059541</td>\n",
       "      <td>0.049239</td>\n",
       "      <td>0.125943</td>\n",
       "      <td>0.280102</td>\n",
       "      <td>-0.010722</td>\n",
       "    </tr>\n",
       "    <tr>\n",
       "      <th>view</th>\n",
       "      <td>0.078354</td>\n",
       "      <td>0.186016</td>\n",
       "      <td>0.281715</td>\n",
       "      <td>0.075054</td>\n",
       "      <td>0.028414</td>\n",
       "      <td>1.000000</td>\n",
       "      <td>0.166017</td>\n",
       "      <td>0.270629</td>\n",
       "      <td>-0.054452</td>\n",
       "      <td>0.100977</td>\n",
       "      <td>0.085059</td>\n",
       "      <td>0.006321</td>\n",
       "      <td>-0.077702</td>\n",
       "      <td>0.278928</td>\n",
       "      <td>0.073083</td>\n",
       "    </tr>\n",
       "    <tr>\n",
       "      <th>sqft_above</th>\n",
       "      <td>0.479386</td>\n",
       "      <td>0.686668</td>\n",
       "      <td>0.876448</td>\n",
       "      <td>0.184139</td>\n",
       "      <td>0.523989</td>\n",
       "      <td>0.166017</td>\n",
       "      <td>1.000000</td>\n",
       "      <td>-0.051175</td>\n",
       "      <td>0.424037</td>\n",
       "      <td>0.022137</td>\n",
       "      <td>-0.261570</td>\n",
       "      <td>-0.001199</td>\n",
       "      <td>0.344842</td>\n",
       "      <td>0.731767</td>\n",
       "      <td>0.195077</td>\n",
       "    </tr>\n",
       "    <tr>\n",
       "      <th>sqft_basement</th>\n",
       "      <td>0.297229</td>\n",
       "      <td>0.278485</td>\n",
       "      <td>0.428660</td>\n",
       "      <td>0.015031</td>\n",
       "      <td>-0.241866</td>\n",
       "      <td>0.270629</td>\n",
       "      <td>-0.051175</td>\n",
       "      <td>1.000000</td>\n",
       "      <td>-0.130085</td>\n",
       "      <td>0.071190</td>\n",
       "      <td>0.073271</td>\n",
       "      <td>0.109853</td>\n",
       "      <td>-0.142369</td>\n",
       "      <td>0.199288</td>\n",
       "      <td>0.015885</td>\n",
       "    </tr>\n",
       "    <tr>\n",
       "      <th>yr_built</th>\n",
       "      <td>0.155670</td>\n",
       "      <td>0.507173</td>\n",
       "      <td>0.318152</td>\n",
       "      <td>0.052946</td>\n",
       "      <td>0.489193</td>\n",
       "      <td>-0.054452</td>\n",
       "      <td>0.424037</td>\n",
       "      <td>-0.130085</td>\n",
       "      <td>1.000000</td>\n",
       "      <td>-0.225209</td>\n",
       "      <td>-0.347210</td>\n",
       "      <td>-0.148370</td>\n",
       "      <td>0.409993</td>\n",
       "      <td>0.326377</td>\n",
       "      <td>0.070777</td>\n",
       "    </tr>\n",
       "    <tr>\n",
       "      <th>yr_renovated</th>\n",
       "      <td>0.018495</td>\n",
       "      <td>0.051050</td>\n",
       "      <td>0.055660</td>\n",
       "      <td>0.004513</td>\n",
       "      <td>0.003535</td>\n",
       "      <td>0.100977</td>\n",
       "      <td>0.022137</td>\n",
       "      <td>0.071190</td>\n",
       "      <td>-0.225209</td>\n",
       "      <td>1.000000</td>\n",
       "      <td>0.069846</td>\n",
       "      <td>0.032145</td>\n",
       "      <td>-0.072156</td>\n",
       "      <td>-0.000247</td>\n",
       "      <td>0.003852</td>\n",
       "    </tr>\n",
       "    <tr>\n",
       "      <th>zipcode</th>\n",
       "      <td>-0.154092</td>\n",
       "      <td>-0.204786</td>\n",
       "      <td>-0.199802</td>\n",
       "      <td>-0.129586</td>\n",
       "      <td>-0.059541</td>\n",
       "      <td>0.085059</td>\n",
       "      <td>-0.261570</td>\n",
       "      <td>0.073271</td>\n",
       "      <td>-0.347210</td>\n",
       "      <td>0.069846</td>\n",
       "      <td>1.000000</td>\n",
       "      <td>0.266742</td>\n",
       "      <td>-0.564259</td>\n",
       "      <td>-0.279299</td>\n",
       "      <td>-0.147294</td>\n",
       "    </tr>\n",
       "    <tr>\n",
       "      <th>lat</th>\n",
       "      <td>-0.009951</td>\n",
       "      <td>0.024280</td>\n",
       "      <td>0.052155</td>\n",
       "      <td>-0.085514</td>\n",
       "      <td>0.049239</td>\n",
       "      <td>0.006321</td>\n",
       "      <td>-0.001199</td>\n",
       "      <td>0.109853</td>\n",
       "      <td>-0.148370</td>\n",
       "      <td>0.032145</td>\n",
       "      <td>0.266742</td>\n",
       "      <td>1.000000</td>\n",
       "      <td>-0.135371</td>\n",
       "      <td>0.048679</td>\n",
       "      <td>-0.086139</td>\n",
       "    </tr>\n",
       "    <tr>\n",
       "      <th>long</th>\n",
       "      <td>0.132054</td>\n",
       "      <td>0.224903</td>\n",
       "      <td>0.241214</td>\n",
       "      <td>0.230227</td>\n",
       "      <td>0.125943</td>\n",
       "      <td>-0.077702</td>\n",
       "      <td>0.344842</td>\n",
       "      <td>-0.142369</td>\n",
       "      <td>0.409993</td>\n",
       "      <td>-0.072156</td>\n",
       "      <td>-0.564259</td>\n",
       "      <td>-0.135371</td>\n",
       "      <td>1.000000</td>\n",
       "      <td>0.335626</td>\n",
       "      <td>0.255586</td>\n",
       "    </tr>\n",
       "    <tr>\n",
       "      <th>sqft_living15</th>\n",
       "      <td>0.393406</td>\n",
       "      <td>0.569884</td>\n",
       "      <td>0.756402</td>\n",
       "      <td>0.144763</td>\n",
       "      <td>0.280102</td>\n",
       "      <td>0.278928</td>\n",
       "      <td>0.731767</td>\n",
       "      <td>0.199288</td>\n",
       "      <td>0.326377</td>\n",
       "      <td>-0.000247</td>\n",
       "      <td>-0.279299</td>\n",
       "      <td>0.048679</td>\n",
       "      <td>0.335626</td>\n",
       "      <td>1.000000</td>\n",
       "      <td>0.183515</td>\n",
       "    </tr>\n",
       "    <tr>\n",
       "      <th>sqft_lot15</th>\n",
       "      <td>0.030690</td>\n",
       "      <td>0.088303</td>\n",
       "      <td>0.184342</td>\n",
       "      <td>0.718204</td>\n",
       "      <td>-0.010722</td>\n",
       "      <td>0.073083</td>\n",
       "      <td>0.195077</td>\n",
       "      <td>0.015885</td>\n",
       "      <td>0.070777</td>\n",
       "      <td>0.003852</td>\n",
       "      <td>-0.147294</td>\n",
       "      <td>-0.086139</td>\n",
       "      <td>0.255586</td>\n",
       "      <td>0.183515</td>\n",
       "      <td>1.000000</td>\n",
       "    </tr>\n",
       "  </tbody>\n",
       "</table>\n",
       "</div>"
      ],
      "text/plain": [
       "               bedrooms  bathrooms  sqft_living  sqft_lot    floors      view  \\\n",
       "bedrooms       1.000000   0.514508     0.578212  0.032471  0.177944  0.078354   \n",
       "bathrooms      0.514508   1.000000     0.755758  0.088373  0.502582  0.186016   \n",
       "sqft_living    0.578212   0.755758     1.000000  0.173453  0.353953  0.281715   \n",
       "sqft_lot       0.032471   0.088373     0.173453  1.000000 -0.004814  0.075054   \n",
       "floors         0.177944   0.502582     0.353953 -0.004814  1.000000  0.028414   \n",
       "view           0.078354   0.186016     0.281715  0.075054  0.028414  1.000000   \n",
       "sqft_above     0.479386   0.686668     0.876448  0.184139  0.523989  0.166017   \n",
       "sqft_basement  0.297229   0.278485     0.428660  0.015031 -0.241866  0.270629   \n",
       "yr_built       0.155670   0.507173     0.318152  0.052946  0.489193 -0.054452   \n",
       "yr_renovated   0.018495   0.051050     0.055660  0.004513  0.003535  0.100977   \n",
       "zipcode       -0.154092  -0.204786    -0.199802 -0.129586 -0.059541  0.085059   \n",
       "lat           -0.009951   0.024280     0.052155 -0.085514  0.049239  0.006321   \n",
       "long           0.132054   0.224903     0.241214  0.230227  0.125943 -0.077702   \n",
       "sqft_living15  0.393406   0.569884     0.756402  0.144763  0.280102  0.278928   \n",
       "sqft_lot15     0.030690   0.088303     0.184342  0.718204 -0.010722  0.073083   \n",
       "\n",
       "               sqft_above  sqft_basement  yr_built  yr_renovated   zipcode  \\\n",
       "bedrooms         0.479386       0.297229  0.155670      0.018495 -0.154092   \n",
       "bathrooms        0.686668       0.278485  0.507173      0.051050 -0.204786   \n",
       "sqft_living      0.876448       0.428660  0.318152      0.055660 -0.199802   \n",
       "sqft_lot         0.184139       0.015031  0.052946      0.004513 -0.129586   \n",
       "floors           0.523989      -0.241866  0.489193      0.003535 -0.059541   \n",
       "view             0.166017       0.270629 -0.054452      0.100977  0.085059   \n",
       "sqft_above       1.000000      -0.051175  0.424037      0.022137 -0.261570   \n",
       "sqft_basement   -0.051175       1.000000 -0.130085      0.071190  0.073271   \n",
       "yr_built         0.424037      -0.130085  1.000000     -0.225209 -0.347210   \n",
       "yr_renovated     0.022137       0.071190 -0.225209      1.000000  0.069846   \n",
       "zipcode         -0.261570       0.073271 -0.347210      0.069846  1.000000   \n",
       "lat             -0.001199       0.109853 -0.148370      0.032145  0.266742   \n",
       "long             0.344842      -0.142369  0.409993     -0.072156 -0.564259   \n",
       "sqft_living15    0.731767       0.199288  0.326377     -0.000247 -0.279299   \n",
       "sqft_lot15       0.195077       0.015885  0.070777      0.003852 -0.147294   \n",
       "\n",
       "                    lat      long  sqft_living15  sqft_lot15  \n",
       "bedrooms      -0.009951  0.132054       0.393406    0.030690  \n",
       "bathrooms      0.024280  0.224903       0.569884    0.088303  \n",
       "sqft_living    0.052155  0.241214       0.756402    0.184342  \n",
       "sqft_lot      -0.085514  0.230227       0.144763    0.718204  \n",
       "floors         0.049239  0.125943       0.280102   -0.010722  \n",
       "view           0.006321 -0.077702       0.278928    0.073083  \n",
       "sqft_above    -0.001199  0.344842       0.731767    0.195077  \n",
       "sqft_basement  0.109853 -0.142369       0.199288    0.015885  \n",
       "yr_built      -0.148370  0.409993       0.326377    0.070777  \n",
       "yr_renovated   0.032145 -0.072156      -0.000247    0.003852  \n",
       "zipcode        0.266742 -0.564259      -0.279299   -0.147294  \n",
       "lat            1.000000 -0.135371       0.048679   -0.086139  \n",
       "long          -0.135371  1.000000       0.335626    0.255586  \n",
       "sqft_living15  0.048679  0.335626       1.000000    0.183515  \n",
       "sqft_lot15    -0.086139  0.255586       0.183515    1.000000  "
      ]
     },
     "execution_count": 31,
     "metadata": {},
     "output_type": "execute_result"
    }
   ],
   "source": [
    "#checking for correlation\n",
    "df_preds.corr()"
   ]
  },
  {
   "cell_type": "code",
   "execution_count": 32,
   "metadata": {},
   "outputs": [
    {
     "data": {
      "text/html": [
       "<div>\n",
       "<style scoped>\n",
       "    .dataframe tbody tr th:only-of-type {\n",
       "        vertical-align: middle;\n",
       "    }\n",
       "\n",
       "    .dataframe tbody tr th {\n",
       "        vertical-align: top;\n",
       "    }\n",
       "\n",
       "    .dataframe thead th {\n",
       "        text-align: right;\n",
       "    }\n",
       "</style>\n",
       "<table border=\"1\" class=\"dataframe\">\n",
       "  <thead>\n",
       "    <tr style=\"text-align: right;\">\n",
       "      <th></th>\n",
       "      <th>bedrooms</th>\n",
       "      <th>bathrooms</th>\n",
       "      <th>sqft_living</th>\n",
       "      <th>sqft_lot</th>\n",
       "      <th>floors</th>\n",
       "      <th>view</th>\n",
       "      <th>sqft_above</th>\n",
       "      <th>sqft_basement</th>\n",
       "      <th>yr_built</th>\n",
       "      <th>yr_renovated</th>\n",
       "      <th>zipcode</th>\n",
       "      <th>lat</th>\n",
       "      <th>long</th>\n",
       "      <th>sqft_living15</th>\n",
       "      <th>sqft_lot15</th>\n",
       "    </tr>\n",
       "  </thead>\n",
       "  <tbody>\n",
       "    <tr>\n",
       "      <th>bedrooms</th>\n",
       "      <td>True</td>\n",
       "      <td>False</td>\n",
       "      <td>False</td>\n",
       "      <td>False</td>\n",
       "      <td>False</td>\n",
       "      <td>False</td>\n",
       "      <td>False</td>\n",
       "      <td>False</td>\n",
       "      <td>False</td>\n",
       "      <td>False</td>\n",
       "      <td>False</td>\n",
       "      <td>False</td>\n",
       "      <td>False</td>\n",
       "      <td>False</td>\n",
       "      <td>False</td>\n",
       "    </tr>\n",
       "    <tr>\n",
       "      <th>bathrooms</th>\n",
       "      <td>False</td>\n",
       "      <td>True</td>\n",
       "      <td>True</td>\n",
       "      <td>False</td>\n",
       "      <td>False</td>\n",
       "      <td>False</td>\n",
       "      <td>False</td>\n",
       "      <td>False</td>\n",
       "      <td>False</td>\n",
       "      <td>False</td>\n",
       "      <td>False</td>\n",
       "      <td>False</td>\n",
       "      <td>False</td>\n",
       "      <td>False</td>\n",
       "      <td>False</td>\n",
       "    </tr>\n",
       "    <tr>\n",
       "      <th>sqft_living</th>\n",
       "      <td>False</td>\n",
       "      <td>True</td>\n",
       "      <td>True</td>\n",
       "      <td>False</td>\n",
       "      <td>False</td>\n",
       "      <td>False</td>\n",
       "      <td>True</td>\n",
       "      <td>False</td>\n",
       "      <td>False</td>\n",
       "      <td>False</td>\n",
       "      <td>False</td>\n",
       "      <td>False</td>\n",
       "      <td>False</td>\n",
       "      <td>True</td>\n",
       "      <td>False</td>\n",
       "    </tr>\n",
       "    <tr>\n",
       "      <th>sqft_lot</th>\n",
       "      <td>False</td>\n",
       "      <td>False</td>\n",
       "      <td>False</td>\n",
       "      <td>True</td>\n",
       "      <td>False</td>\n",
       "      <td>False</td>\n",
       "      <td>False</td>\n",
       "      <td>False</td>\n",
       "      <td>False</td>\n",
       "      <td>False</td>\n",
       "      <td>False</td>\n",
       "      <td>False</td>\n",
       "      <td>False</td>\n",
       "      <td>False</td>\n",
       "      <td>True</td>\n",
       "    </tr>\n",
       "    <tr>\n",
       "      <th>floors</th>\n",
       "      <td>False</td>\n",
       "      <td>False</td>\n",
       "      <td>False</td>\n",
       "      <td>False</td>\n",
       "      <td>True</td>\n",
       "      <td>False</td>\n",
       "      <td>False</td>\n",
       "      <td>False</td>\n",
       "      <td>False</td>\n",
       "      <td>False</td>\n",
       "      <td>False</td>\n",
       "      <td>False</td>\n",
       "      <td>False</td>\n",
       "      <td>False</td>\n",
       "      <td>False</td>\n",
       "    </tr>\n",
       "    <tr>\n",
       "      <th>view</th>\n",
       "      <td>False</td>\n",
       "      <td>False</td>\n",
       "      <td>False</td>\n",
       "      <td>False</td>\n",
       "      <td>False</td>\n",
       "      <td>True</td>\n",
       "      <td>False</td>\n",
       "      <td>False</td>\n",
       "      <td>False</td>\n",
       "      <td>False</td>\n",
       "      <td>False</td>\n",
       "      <td>False</td>\n",
       "      <td>False</td>\n",
       "      <td>False</td>\n",
       "      <td>False</td>\n",
       "    </tr>\n",
       "    <tr>\n",
       "      <th>sqft_above</th>\n",
       "      <td>False</td>\n",
       "      <td>False</td>\n",
       "      <td>True</td>\n",
       "      <td>False</td>\n",
       "      <td>False</td>\n",
       "      <td>False</td>\n",
       "      <td>True</td>\n",
       "      <td>False</td>\n",
       "      <td>False</td>\n",
       "      <td>False</td>\n",
       "      <td>False</td>\n",
       "      <td>False</td>\n",
       "      <td>False</td>\n",
       "      <td>True</td>\n",
       "      <td>False</td>\n",
       "    </tr>\n",
       "    <tr>\n",
       "      <th>sqft_basement</th>\n",
       "      <td>False</td>\n",
       "      <td>False</td>\n",
       "      <td>False</td>\n",
       "      <td>False</td>\n",
       "      <td>False</td>\n",
       "      <td>False</td>\n",
       "      <td>False</td>\n",
       "      <td>True</td>\n",
       "      <td>False</td>\n",
       "      <td>False</td>\n",
       "      <td>False</td>\n",
       "      <td>False</td>\n",
       "      <td>False</td>\n",
       "      <td>False</td>\n",
       "      <td>False</td>\n",
       "    </tr>\n",
       "    <tr>\n",
       "      <th>yr_built</th>\n",
       "      <td>False</td>\n",
       "      <td>False</td>\n",
       "      <td>False</td>\n",
       "      <td>False</td>\n",
       "      <td>False</td>\n",
       "      <td>False</td>\n",
       "      <td>False</td>\n",
       "      <td>False</td>\n",
       "      <td>True</td>\n",
       "      <td>False</td>\n",
       "      <td>False</td>\n",
       "      <td>False</td>\n",
       "      <td>False</td>\n",
       "      <td>False</td>\n",
       "      <td>False</td>\n",
       "    </tr>\n",
       "    <tr>\n",
       "      <th>yr_renovated</th>\n",
       "      <td>False</td>\n",
       "      <td>False</td>\n",
       "      <td>False</td>\n",
       "      <td>False</td>\n",
       "      <td>False</td>\n",
       "      <td>False</td>\n",
       "      <td>False</td>\n",
       "      <td>False</td>\n",
       "      <td>False</td>\n",
       "      <td>True</td>\n",
       "      <td>False</td>\n",
       "      <td>False</td>\n",
       "      <td>False</td>\n",
       "      <td>False</td>\n",
       "      <td>False</td>\n",
       "    </tr>\n",
       "    <tr>\n",
       "      <th>zipcode</th>\n",
       "      <td>False</td>\n",
       "      <td>False</td>\n",
       "      <td>False</td>\n",
       "      <td>False</td>\n",
       "      <td>False</td>\n",
       "      <td>False</td>\n",
       "      <td>False</td>\n",
       "      <td>False</td>\n",
       "      <td>False</td>\n",
       "      <td>False</td>\n",
       "      <td>True</td>\n",
       "      <td>False</td>\n",
       "      <td>False</td>\n",
       "      <td>False</td>\n",
       "      <td>False</td>\n",
       "    </tr>\n",
       "    <tr>\n",
       "      <th>lat</th>\n",
       "      <td>False</td>\n",
       "      <td>False</td>\n",
       "      <td>False</td>\n",
       "      <td>False</td>\n",
       "      <td>False</td>\n",
       "      <td>False</td>\n",
       "      <td>False</td>\n",
       "      <td>False</td>\n",
       "      <td>False</td>\n",
       "      <td>False</td>\n",
       "      <td>False</td>\n",
       "      <td>True</td>\n",
       "      <td>False</td>\n",
       "      <td>False</td>\n",
       "      <td>False</td>\n",
       "    </tr>\n",
       "    <tr>\n",
       "      <th>long</th>\n",
       "      <td>False</td>\n",
       "      <td>False</td>\n",
       "      <td>False</td>\n",
       "      <td>False</td>\n",
       "      <td>False</td>\n",
       "      <td>False</td>\n",
       "      <td>False</td>\n",
       "      <td>False</td>\n",
       "      <td>False</td>\n",
       "      <td>False</td>\n",
       "      <td>False</td>\n",
       "      <td>False</td>\n",
       "      <td>True</td>\n",
       "      <td>False</td>\n",
       "      <td>False</td>\n",
       "    </tr>\n",
       "    <tr>\n",
       "      <th>sqft_living15</th>\n",
       "      <td>False</td>\n",
       "      <td>False</td>\n",
       "      <td>True</td>\n",
       "      <td>False</td>\n",
       "      <td>False</td>\n",
       "      <td>False</td>\n",
       "      <td>True</td>\n",
       "      <td>False</td>\n",
       "      <td>False</td>\n",
       "      <td>False</td>\n",
       "      <td>False</td>\n",
       "      <td>False</td>\n",
       "      <td>False</td>\n",
       "      <td>True</td>\n",
       "      <td>False</td>\n",
       "    </tr>\n",
       "    <tr>\n",
       "      <th>sqft_lot15</th>\n",
       "      <td>False</td>\n",
       "      <td>False</td>\n",
       "      <td>False</td>\n",
       "      <td>True</td>\n",
       "      <td>False</td>\n",
       "      <td>False</td>\n",
       "      <td>False</td>\n",
       "      <td>False</td>\n",
       "      <td>False</td>\n",
       "      <td>False</td>\n",
       "      <td>False</td>\n",
       "      <td>False</td>\n",
       "      <td>False</td>\n",
       "      <td>False</td>\n",
       "      <td>True</td>\n",
       "    </tr>\n",
       "  </tbody>\n",
       "</table>\n",
       "</div>"
      ],
      "text/plain": [
       "               bedrooms  bathrooms  sqft_living  sqft_lot  floors   view  \\\n",
       "bedrooms           True      False        False     False   False  False   \n",
       "bathrooms         False       True         True     False   False  False   \n",
       "sqft_living       False       True         True     False   False  False   \n",
       "sqft_lot          False      False        False      True   False  False   \n",
       "floors            False      False        False     False    True  False   \n",
       "view              False      False        False     False   False   True   \n",
       "sqft_above        False      False         True     False   False  False   \n",
       "sqft_basement     False      False        False     False   False  False   \n",
       "yr_built          False      False        False     False   False  False   \n",
       "yr_renovated      False      False        False     False   False  False   \n",
       "zipcode           False      False        False     False   False  False   \n",
       "lat               False      False        False     False   False  False   \n",
       "long              False      False        False     False   False  False   \n",
       "sqft_living15     False      False         True     False   False  False   \n",
       "sqft_lot15        False      False        False      True   False  False   \n",
       "\n",
       "               sqft_above  sqft_basement  yr_built  yr_renovated  zipcode  \\\n",
       "bedrooms            False          False     False         False    False   \n",
       "bathrooms           False          False     False         False    False   \n",
       "sqft_living          True          False     False         False    False   \n",
       "sqft_lot            False          False     False         False    False   \n",
       "floors              False          False     False         False    False   \n",
       "view                False          False     False         False    False   \n",
       "sqft_above           True          False     False         False    False   \n",
       "sqft_basement       False           True     False         False    False   \n",
       "yr_built            False          False      True         False    False   \n",
       "yr_renovated        False          False     False          True    False   \n",
       "zipcode             False          False     False         False     True   \n",
       "lat                 False          False     False         False    False   \n",
       "long                False          False     False         False    False   \n",
       "sqft_living15        True          False     False         False    False   \n",
       "sqft_lot15          False          False     False         False    False   \n",
       "\n",
       "                 lat   long  sqft_living15  sqft_lot15  \n",
       "bedrooms       False  False          False       False  \n",
       "bathrooms      False  False          False       False  \n",
       "sqft_living    False  False           True       False  \n",
       "sqft_lot       False  False          False        True  \n",
       "floors         False  False          False       False  \n",
       "view           False  False          False       False  \n",
       "sqft_above     False  False           True       False  \n",
       "sqft_basement  False  False          False       False  \n",
       "yr_built       False  False          False       False  \n",
       "yr_renovated   False  False          False       False  \n",
       "zipcode        False  False          False       False  \n",
       "lat             True  False          False       False  \n",
       "long           False   True          False       False  \n",
       "sqft_living15  False  False           True       False  \n",
       "sqft_lot15     False  False          False        True  "
      ]
     },
     "execution_count": 32,
     "metadata": {},
     "output_type": "execute_result"
    }
   ],
   "source": [
    "abs(df_preds.corr()) > 0.7 "
   ]
  },
  {
   "cell_type": "code",
   "execution_count": 33,
   "metadata": {},
   "outputs": [
    {
     "data": {
      "image/png": "[encoded data removed]",
      "text/plain": [
       "<Figure size 576x432 with 2 Axes>"
      ]
     },
     "metadata": {
      "needs_background": "light"
     },
     "output_type": "display_data"
    }
   ],
   "source": [
    "f, ax = plt.subplots(figsize=(8,6))\n",
    "sns.heatmap(df_preds.corr(), center=0, linewidths=.5, cmap=\"RdBu\");\n",
    "# i am using the heatmap to check for correlation between the datasets\n",
    "# i am also trying to see which columns i should drop"
   ]
  },
  {
   "cell_type": "code",
   "execution_count": 34,
   "metadata": {},
   "outputs": [],
   "source": [
    "# I used 0.7 as a means to find a strong correlation\n",
    "# I am going to drop id, date, zipcode ,latitude, sqft_above, yr_renovated, sqft_lot15 and longitude since I don't feel them necessary"
   ]
  },
  {
   "cell_type": "code",
   "execution_count": 35,
   "metadata": {},
   "outputs": [],
   "source": [
    "# I am writing a function solely for dropping columns\n",
    "def drop_cols(columns, df):\n",
    "    return df.drop(columns, axis=1, inplace=True)"
   ]
  },
  {
   "cell_type": "code",
   "execution_count": 36,
   "metadata": {},
   "outputs": [
    {
     "data": {
      "text/html": [
       "<div>\n",
       "<style scoped>\n",
       "    .dataframe tbody tr th:only-of-type {\n",
       "        vertical-align: middle;\n",
       "    }\n",
       "\n",
       "    .dataframe tbody tr th {\n",
       "        vertical-align: top;\n",
       "    }\n",
       "\n",
       "    .dataframe thead th {\n",
       "        text-align: right;\n",
       "    }\n",
       "</style>\n",
       "<table border=\"1\" class=\"dataframe\">\n",
       "  <thead>\n",
       "    <tr style=\"text-align: right;\">\n",
       "      <th></th>\n",
       "      <th>price</th>\n",
       "      <th>bedrooms</th>\n",
       "      <th>bathrooms</th>\n",
       "      <th>sqft_living</th>\n",
       "      <th>sqft_lot</th>\n",
       "      <th>floors</th>\n",
       "      <th>waterfront</th>\n",
       "      <th>view</th>\n",
       "      <th>condition</th>\n",
       "      <th>grade</th>\n",
       "      <th>sqft_basement</th>\n",
       "      <th>yr_built</th>\n",
       "      <th>sqft_lot15</th>\n",
       "      <th>reno_year</th>\n",
       "    </tr>\n",
       "  </thead>\n",
       "  <tbody>\n",
       "    <tr>\n",
       "      <th>0</th>\n",
       "      <td>221900.0</td>\n",
       "      <td>3</td>\n",
       "      <td>1.00</td>\n",
       "      <td>1180</td>\n",
       "      <td>5650</td>\n",
       "      <td>1.0</td>\n",
       "      <td>nan</td>\n",
       "      <td>0</td>\n",
       "      <td>3</td>\n",
       "      <td>7</td>\n",
       "      <td>0</td>\n",
       "      <td>1955</td>\n",
       "      <td>5650</td>\n",
       "      <td>no_reno</td>\n",
       "    </tr>\n",
       "    <tr>\n",
       "      <th>1</th>\n",
       "      <td>538000.0</td>\n",
       "      <td>3</td>\n",
       "      <td>2.25</td>\n",
       "      <td>2570</td>\n",
       "      <td>7242</td>\n",
       "      <td>2.0</td>\n",
       "      <td>0.0</td>\n",
       "      <td>0</td>\n",
       "      <td>3</td>\n",
       "      <td>7</td>\n",
       "      <td>400</td>\n",
       "      <td>1951</td>\n",
       "      <td>7639</td>\n",
       "      <td>1990-1999</td>\n",
       "    </tr>\n",
       "    <tr>\n",
       "      <th>2</th>\n",
       "      <td>180000.0</td>\n",
       "      <td>2</td>\n",
       "      <td>1.00</td>\n",
       "      <td>770</td>\n",
       "      <td>10000</td>\n",
       "      <td>1.0</td>\n",
       "      <td>0.0</td>\n",
       "      <td>0</td>\n",
       "      <td>3</td>\n",
       "      <td>6</td>\n",
       "      <td>0</td>\n",
       "      <td>1933</td>\n",
       "      <td>8062</td>\n",
       "      <td>no_reno</td>\n",
       "    </tr>\n",
       "    <tr>\n",
       "      <th>3</th>\n",
       "      <td>604000.0</td>\n",
       "      <td>4</td>\n",
       "      <td>3.00</td>\n",
       "      <td>1960</td>\n",
       "      <td>5000</td>\n",
       "      <td>1.0</td>\n",
       "      <td>0.0</td>\n",
       "      <td>0</td>\n",
       "      <td>5</td>\n",
       "      <td>7</td>\n",
       "      <td>910</td>\n",
       "      <td>1965</td>\n",
       "      <td>5000</td>\n",
       "      <td>no_reno</td>\n",
       "    </tr>\n",
       "    <tr>\n",
       "      <th>4</th>\n",
       "      <td>510000.0</td>\n",
       "      <td>3</td>\n",
       "      <td>2.00</td>\n",
       "      <td>1680</td>\n",
       "      <td>8080</td>\n",
       "      <td>1.0</td>\n",
       "      <td>0.0</td>\n",
       "      <td>0</td>\n",
       "      <td>3</td>\n",
       "      <td>8</td>\n",
       "      <td>0</td>\n",
       "      <td>1987</td>\n",
       "      <td>7503</td>\n",
       "      <td>no_reno</td>\n",
       "    </tr>\n",
       "  </tbody>\n",
       "</table>\n",
       "</div>"
      ],
      "text/plain": [
       "      price  bedrooms  bathrooms  sqft_living  sqft_lot  floors waterfront  \\\n",
       "0  221900.0         3       1.00         1180      5650     1.0        nan   \n",
       "1  538000.0         3       2.25         2570      7242     2.0        0.0   \n",
       "2  180000.0         2       1.00          770     10000     1.0        0.0   \n",
       "3  604000.0         4       3.00         1960      5000     1.0        0.0   \n",
       "4  510000.0         3       2.00         1680      8080     1.0        0.0   \n",
       "\n",
       "   view condition grade  sqft_basement  yr_built  sqft_lot15  reno_year  \n",
       "0     0         3     7              0      1955        5650    no_reno  \n",
       "1     0         3     7            400      1951        7639  1990-1999  \n",
       "2     0         3     6              0      1933        8062    no_reno  \n",
       "3     0         5     7            910      1965        5000    no_reno  \n",
       "4     0         3     8              0      1987        7503    no_reno  "
      ]
     },
     "execution_count": 36,
     "metadata": {},
     "output_type": "execute_result"
    }
   ],
   "source": [
    "# now i will use the function to drop the said columns except for bathrooms because i still think it is useful\n",
    "df = df.drop(columns=['sqft_above', 'sqft_living15'], axis=1)\n",
    "\n",
    "df = df.drop(columns=['id', 'date', 'zipcode', 'lat', 'long', 'yr_renovated'], axis=1)\n",
    "df.head()"
   ]
  },
  {
   "cell_type": "code",
   "execution_count": 37,
   "metadata": {},
   "outputs": [
    {
     "data": {
      "text/html": [
       "<div>\n",
       "<style scoped>\n",
       "    .dataframe tbody tr th:only-of-type {\n",
       "        vertical-align: middle;\n",
       "    }\n",
       "\n",
       "    .dataframe tbody tr th {\n",
       "        vertical-align: top;\n",
       "    }\n",
       "\n",
       "    .dataframe thead th {\n",
       "        text-align: right;\n",
       "    }\n",
       "</style>\n",
       "<table border=\"1\" class=\"dataframe\">\n",
       "  <thead>\n",
       "    <tr style=\"text-align: right;\">\n",
       "      <th></th>\n",
       "      <th>price</th>\n",
       "      <th>bathrooms</th>\n",
       "      <th>bedrooms</th>\n",
       "      <th>sqft_lot</th>\n",
       "      <th>floors</th>\n",
       "      <th>view</th>\n",
       "      <th>sqft_basement</th>\n",
       "      <th>yr_built</th>\n",
       "      <th>sqft_living</th>\n",
       "    </tr>\n",
       "  </thead>\n",
       "  <tbody>\n",
       "    <tr>\n",
       "      <th>count</th>\n",
       "      <td>21597.000</td>\n",
       "      <td>21597.000</td>\n",
       "      <td>21597.000</td>\n",
       "      <td>21597.000</td>\n",
       "      <td>21597.000</td>\n",
       "      <td>21597.000</td>\n",
       "      <td>21597.000</td>\n",
       "      <td>21597.000</td>\n",
       "      <td>21597.000</td>\n",
       "    </tr>\n",
       "    <tr>\n",
       "      <th>mean</th>\n",
       "      <td>540296.574</td>\n",
       "      <td>2.116</td>\n",
       "      <td>3.373</td>\n",
       "      <td>15099.409</td>\n",
       "      <td>1.494</td>\n",
       "      <td>0.233</td>\n",
       "      <td>285.717</td>\n",
       "      <td>1971.000</td>\n",
       "      <td>2080.322</td>\n",
       "    </tr>\n",
       "    <tr>\n",
       "      <th>std</th>\n",
       "      <td>367368.140</td>\n",
       "      <td>0.769</td>\n",
       "      <td>0.926</td>\n",
       "      <td>41412.637</td>\n",
       "      <td>0.540</td>\n",
       "      <td>0.765</td>\n",
       "      <td>439.820</td>\n",
       "      <td>29.375</td>\n",
       "      <td>918.106</td>\n",
       "    </tr>\n",
       "    <tr>\n",
       "      <th>min</th>\n",
       "      <td>78000.000</td>\n",
       "      <td>0.500</td>\n",
       "      <td>1.000</td>\n",
       "      <td>520.000</td>\n",
       "      <td>1.000</td>\n",
       "      <td>0.000</td>\n",
       "      <td>0.000</td>\n",
       "      <td>1900.000</td>\n",
       "      <td>370.000</td>\n",
       "    </tr>\n",
       "    <tr>\n",
       "      <th>25%</th>\n",
       "      <td>322000.000</td>\n",
       "      <td>1.750</td>\n",
       "      <td>3.000</td>\n",
       "      <td>5040.000</td>\n",
       "      <td>1.000</td>\n",
       "      <td>0.000</td>\n",
       "      <td>0.000</td>\n",
       "      <td>1951.000</td>\n",
       "      <td>1430.000</td>\n",
       "    </tr>\n",
       "    <tr>\n",
       "      <th>50%</th>\n",
       "      <td>450000.000</td>\n",
       "      <td>2.250</td>\n",
       "      <td>3.000</td>\n",
       "      <td>7618.000</td>\n",
       "      <td>1.500</td>\n",
       "      <td>0.000</td>\n",
       "      <td>0.000</td>\n",
       "      <td>1975.000</td>\n",
       "      <td>1910.000</td>\n",
       "    </tr>\n",
       "    <tr>\n",
       "      <th>75%</th>\n",
       "      <td>645000.000</td>\n",
       "      <td>2.500</td>\n",
       "      <td>4.000</td>\n",
       "      <td>10685.000</td>\n",
       "      <td>2.000</td>\n",
       "      <td>0.000</td>\n",
       "      <td>550.000</td>\n",
       "      <td>1997.000</td>\n",
       "      <td>2550.000</td>\n",
       "    </tr>\n",
       "    <tr>\n",
       "      <th>max</th>\n",
       "      <td>7700000.000</td>\n",
       "      <td>8.000</td>\n",
       "      <td>33.000</td>\n",
       "      <td>1651359.000</td>\n",
       "      <td>3.500</td>\n",
       "      <td>4.000</td>\n",
       "      <td>4820.000</td>\n",
       "      <td>2015.000</td>\n",
       "      <td>13540.000</td>\n",
       "    </tr>\n",
       "  </tbody>\n",
       "</table>\n",
       "</div>"
      ],
      "text/plain": [
       "             price  bathrooms   bedrooms     sqft_lot     floors       view  \\\n",
       "count    21597.000  21597.000  21597.000    21597.000  21597.000  21597.000   \n",
       "mean    540296.574      2.116      3.373    15099.409      1.494      0.233   \n",
       "std     367368.140      0.769      0.926    41412.637      0.540      0.765   \n",
       "min      78000.000      0.500      1.000      520.000      1.000      0.000   \n",
       "25%     322000.000      1.750      3.000     5040.000      1.000      0.000   \n",
       "50%     450000.000      2.250      3.000     7618.000      1.500      0.000   \n",
       "75%     645000.000      2.500      4.000    10685.000      2.000      0.000   \n",
       "max    7700000.000      8.000     33.000  1651359.000      3.500      4.000   \n",
       "\n",
       "       sqft_basement   yr_built  sqft_living  \n",
       "count      21597.000  21597.000    21597.000  \n",
       "mean         285.717   1971.000     2080.322  \n",
       "std          439.820     29.375      918.106  \n",
       "min            0.000   1900.000      370.000  \n",
       "25%            0.000   1951.000     1430.000  \n",
       "50%            0.000   1975.000     1910.000  \n",
       "75%          550.000   1997.000     2550.000  \n",
       "max         4820.000   2015.000    13540.000  "
      ]
     },
     "execution_count": 37,
     "metadata": {},
     "output_type": "execute_result"
    }
   ],
   "source": [
    "# i am going to create a subset of values that are numerical\n",
    "subsets = ['price', 'bathrooms', 'bedrooms', 'sqft_lot', 'floors', 'view', 'sqft_basement', \n",
    "           'yr_built', 'sqft_living']\n",
    "# here i will round the subsets' statistical values to better understand them\n",
    "data_descriptives = round(df[subsets].describe(), 3)\n",
    "data_descriptives"
   ]
  },
  {
   "cell_type": "markdown",
   "metadata": {},
   "source": [
    "## Part 3: Visualize!"
   ]
  },
  {
   "cell_type": "code",
   "execution_count": 38,
   "metadata": {},
   "outputs": [
    {
     "data": {
      "image/png": "[encoded data removed]",
      "text/plain": [
       "<Figure size 1152x144 with 1 Axes>"
      ]
     },
     "metadata": {
      "needs_background": "light"
     },
     "output_type": "display_data"
    },
    {
     "data": {
      "image/png": "[encoded data removed]",
      "text/plain": [
       "<Figure size 1152x144 with 1 Axes>"
      ]
     },
     "metadata": {
      "needs_background": "light"
     },
     "output_type": "display_data"
    },
    {
     "data": {
      "image/png": "[encoded data removed]",
      "text/plain": [
       "<Figure size 1152x144 with 1 Axes>"
      ]
     },
     "metadata": {
      "needs_background": "light"
     },
     "output_type": "display_data"
    },
    {
     "data": {
      "image/png": "[encoded data removed]",
      "text/plain": [
       "<Figure size 1152x144 with 1 Axes>"
      ]
     },
     "metadata": {
      "needs_background": "light"
     },
     "output_type": "display_data"
    }
   ],
   "source": [
    "# lets do some visualizations to explore the data. \n",
    "# i am looking to see if there are any outliers and other statistical info for the numerical datasets\n",
    "df[['price']].plot(kind='box', vert=False, figsize=(16,2));\n",
    "df[['sqft_lot']].plot(kind='box', vert=False, figsize=(16,2));\n",
    "df[['sqft_living', 'sqft_basement']].plot(kind='box', vert=False, figsize=(16,2));\n",
    "df[['bedrooms', 'view', 'floors']].plot(kind='box', vert=False, figsize=(16,2));"
   ]
  },
  {
   "cell_type": "code",
   "execution_count": 39,
   "metadata": {},
   "outputs": [
    {
     "data": {
      "image/png": "[encoded data removed]",
      "text/plain": [
       "<Figure size 720x720 with 9 Axes>"
      ]
     },
     "metadata": {
      "needs_background": "light"
     },
     "output_type": "display_data"
    }
   ],
   "source": [
    "fig = df[subsets].hist(bins=50, color='red', figsize=(10,10), grid=True)\n",
    "plt.tight_layout();\n",
    "# histograms"
   ]
  },
  {
   "cell_type": "code",
   "execution_count": null,
   "metadata": {},
   "outputs": [],
   "source": [
    "# none of the histograms above are normally distributed \n",
    "# next, we will be looking for multicollinearity within the data"
   ]
  },
  {
   "cell_type": "code",
   "execution_count": 41,
   "metadata": {},
   "outputs": [],
   "source": [
    "col1 = ['floors', 'bedrooms', 'bathrooms', 'sqft_lot', 'price']\n",
    "col2 = ['condition', 'grade', 'sqft_basement', 'yr_built', 'reno_year', 'price']"
   ]
  },
  {
   "cell_type": "code",
   "execution_count": 42,
   "metadata": {},
   "outputs": [
    {
     "data": {
      "image/png": "[encoded data removed]",
      "text/plain": [
       "<Figure size 1080x1080 with 25 Axes>"
      ]
     },
     "metadata": {
      "needs_background": "light"
     },
     "output_type": "display_data"
    }
   ],
   "source": [
    "pd.plotting.scatter_matrix(df[col1], figsize=(15,15));\n",
    "# using a scatter matrix will allow us to look for a relationship between two predictors."
   ]
  },
  {
   "cell_type": "code",
   "execution_count": 43,
   "metadata": {},
   "outputs": [],
   "source": [
    "numbers_df = df[['sqft_living', 'sqft_lot', 'sqft_basement']]\n",
    "numbers2_df = df[['bedrooms', 'bathrooms', 'floors', 'view', 'yr_built']]"
   ]
  },
  {
   "cell_type": "code",
   "execution_count": 44,
   "metadata": {},
   "outputs": [],
   "source": [
    "from sklearn.preprocessing import MinMaxScaler\n",
    "scaler = MinMaxScaler()\n",
    "norm_numb = scaler.fit_transform(numbers_df)\n",
    "scaled_numbers_df = pd.DataFrame(norm_numb, columns=['sqft_living', 'sqft_lot', 'sqft_basement'])"
   ]
  },
  {
   "cell_type": "code",
   "execution_count": 45,
   "metadata": {},
   "outputs": [
    {
     "data": {
      "image/png": "[encoded data removed]",
      "text/plain": [
       "<Figure size 1152x216 with 3 Axes>"
      ]
     },
     "metadata": {
      "needs_background": "light"
     },
     "output_type": "display_data"
    }
   ],
   "source": [
    "fig, axes = plt.subplots(nrows=1, ncols=3, figsize=(16,3))\n",
    "\n",
    "for xcol, ax in zip(['sqft_living', 'sqft_lot', 'sqft_basement'], axes):\n",
    "    df.plot(kind='scatter', x=xcol, y='price', ax=ax, alpha=0.4, color='b')"
   ]
  },
  {
   "cell_type": "code",
   "execution_count": 46,
   "metadata": {},
   "outputs": [],
   "source": [
    "# sqft_living certainly shows linear regression\n",
    "# we'll explore this later "
   ]
  },
  {
   "cell_type": "code",
   "execution_count": 47,
   "metadata": {},
   "outputs": [],
   "source": [
    "from sklearn.preprocessing import MinMaxScaler\n",
    "scaler = MinMaxScaler()\n",
    "norm_numb = scaler.fit_transform(numbers2_df)\n",
    "scaled_numbers_df = pd.DataFrame(norm_numb, columns=['bedrooms', 'bathrooms', 'floors', 'view', 'yr_built'])"
   ]
  },
  {
   "cell_type": "code",
   "execution_count": 48,
   "metadata": {},
   "outputs": [
    {
     "data": {
      "image/png": "[encoded data removed]",
      "text/plain": [
       "<Figure size 1152x216 with 5 Axes>"
      ]
     },
     "metadata": {
      "needs_background": "light"
     },
     "output_type": "display_data"
    }
   ],
   "source": [
    "fig, axes = plt.subplots(nrows=1, ncols=5, figsize=(16,3))\n",
    "\n",
    "for xcol, ax in zip(['bedrooms', 'bathrooms', 'floors', 'view', 'yr_built'], axes):\n",
    "    df.plot(kind='scatter', x=xcol, y='price', ax=ax, alpha=0.4, color='b')"
   ]
  },
  {
   "cell_type": "code",
   "execution_count": 49,
   "metadata": {},
   "outputs": [],
   "source": [
    "# bathrooms looks like it has some type of regression as well, but we need to explore it a bit more\n",
    "# i am kind of curious about the floors column and why it showed similar to other categorical values such as view?\n",
    "# we will visualize these categorical datasets"
   ]
  },
  {
   "cell_type": "code",
   "execution_count": 50,
   "metadata": {},
   "outputs": [
    {
     "data": {
      "image/png": "[encoded data removed]",
      "text/plain": [
       "<Figure size 504x288 with 1 Axes>"
      ]
     },
     "metadata": {
      "needs_background": "light"
     },
     "output_type": "display_data"
    }
   ],
   "source": [
    "df.waterfront.value_counts(normalize=True).plot.bar(rot=0, sort_columns=True, \n",
    "                                                    title=\"\\nWaterfront\\n\", figsize=(7,4))\n",
    "plt.ylabel('Percentage');"
   ]
  },
  {
   "cell_type": "code",
   "execution_count": 51,
   "metadata": {},
   "outputs": [
    {
     "data": {
      "image/png": "[encoded data removed]",
      "text/plain": [
       "<Figure size 576x288 with 1 Axes>"
      ]
     },
     "metadata": {
      "needs_background": "light"
     },
     "output_type": "display_data"
    }
   ],
   "source": [
    "sns.catplot(x=\"waterfront\", y=\"price\", data=df, height=4, aspect=2)\n",
    "plt.title('\\nWaterfront vs. Price\\n', fontweight='bold')\n",
    "plt.xlabel('Waterfront')\n",
    "plt.ylabel('Price');"
   ]
  },
  {
   "cell_type": "code",
   "execution_count": 52,
   "metadata": {},
   "outputs": [],
   "source": [
    "# it seems like houses with waterfronts are pricier"
   ]
  },
  {
   "cell_type": "code",
   "execution_count": 53,
   "metadata": {},
   "outputs": [
    {
     "data": {
      "image/png": "[encoded data removed]",
      "text/plain": [
       "<Figure size 504x288 with 1 Axes>"
      ]
     },
     "metadata": {
      "needs_background": "light"
     },
     "output_type": "display_data"
    }
   ],
   "source": [
    "df.grade.value_counts(normalize=True).plot.bar(rot=0, sort_columns=True, \n",
    "                                                   title=\"\\nGrade\\n\", figsize=(7,4))\n",
    "plt.ylabel('Percentage');"
   ]
  },
  {
   "cell_type": "code",
   "execution_count": 54,
   "metadata": {},
   "outputs": [
    {
     "data": {
      "image/png": "[encoded data removed]",
      "text/plain": [
       "<Figure size 576x288 with 1 Axes>"
      ]
     },
     "metadata": {
      "needs_background": "light"
     },
     "output_type": "display_data"
    }
   ],
   "source": [
    "sns.catplot(x=\"grade\", y=\"price\", data=df, height=4, aspect=2)\n",
    "plt.title('\\nGrade vs. Price\\n', fontweight='bold')\n",
    "plt.xlabel('Grade')\n",
    "plt.ylabel('Price');"
   ]
  },
  {
   "cell_type": "code",
   "execution_count": 55,
   "metadata": {},
   "outputs": [],
   "source": [
    "# it looks like houses that cost more have higher grades.\n",
    "# a grade is based on inspections."
   ]
  },
  {
   "cell_type": "code",
   "execution_count": 56,
   "metadata": {},
   "outputs": [
    {
     "data": {
      "image/png": "[encoded data removed]",
      "text/plain": [
       "<Figure size 504x288 with 1 Axes>"
      ]
     },
     "metadata": {
      "needs_background": "light"
     },
     "output_type": "display_data"
    }
   ],
   "source": [
    "df.condition.value_counts(normalize=True).plot.bar(rot=0, sort_columns=True, \n",
    "                                                   title=\"\\nCondition\\n\", figsize=(7,4))\n",
    "plt.ylabel('Percentage');"
   ]
  },
  {
   "cell_type": "code",
   "execution_count": null,
   "metadata": {},
   "outputs": [],
   "source": [
    "# a house in a better condition will of course cost more."
   ]
  },
  {
   "cell_type": "code",
   "execution_count": 57,
   "metadata": {},
   "outputs": [
    {
     "data": {
      "image/png": "[encoded data removed]",
      "text/plain": [
       "<Figure size 576x288 with 1 Axes>"
      ]
     },
     "metadata": {
      "needs_background": "light"
     },
     "output_type": "display_data"
    }
   ],
   "source": [
    "sns.catplot(x=\"condition\", y=\"price\", data=df, height=4, aspect=2)\n",
    "plt.title('\\nCondition vs. Price\\n', fontweight='bold')\n",
    "plt.xlabel('Condition')\n",
    "plt.ylabel('Price');"
   ]
  },
  {
   "cell_type": "code",
   "execution_count": 58,
   "metadata": {},
   "outputs": [
    {
     "data": {
      "image/png": "[encoded data removed]",
      "text/plain": [
       "<Figure size 504x288 with 1 Axes>"
      ]
     },
     "metadata": {
      "needs_background": "light"
     },
     "output_type": "display_data"
    }
   ],
   "source": [
    "df.reno_year.value_counts(normalize=True).plot.bar(rot=0, sort_columns=True, \n",
    "                                                    title=\"\\nRenovation\\n\", figsize=(7,4))\n",
    "plt.ylabel('Percentage');"
   ]
  },
  {
   "cell_type": "code",
   "execution_count": 59,
   "metadata": {},
   "outputs": [
    {
     "data": {
      "image/png": "[encoded data removed]",
      "text/plain": [
       "<Figure size 576x288 with 1 Axes>"
      ]
     },
     "metadata": {
      "needs_background": "light"
     },
     "output_type": "display_data"
    }
   ],
   "source": [
    "sns.catplot(x=\"reno_year\", y=\"price\", data=df, height=4, aspect=2)\n",
    "plt.title('\\nRenovation vs. Price\\n', fontweight='bold')\n",
    "plt.xlabel('Renovation')\n",
    "plt.ylabel('Price');"
   ]
  },
  {
   "cell_type": "code",
   "execution_count": 60,
   "metadata": {},
   "outputs": [
    {
     "data": {
      "image/png": "[encoded data removed]",
      "text/plain": [
       "<Figure size 1152x216 with 4 Axes>"
      ]
     },
     "metadata": {
      "needs_background": "light"
     },
     "output_type": "display_data"
    }
   ],
   "source": [
    "fig, axes = plt.subplots(nrows=1, ncols=4, figsize=(16,3))\n",
    "\n",
    "for xcol, ax in zip(['sqft_living', 'bedrooms', 'bathrooms', 'sqft_basement'], axes):\n",
    "    df.plot(kind='scatter', x=xcol, y='price', ax=ax, alpha=0.4, color='b')"
   ]
  },
  {
   "cell_type": "code",
   "execution_count": 61,
   "metadata": {},
   "outputs": [
    {
     "name": "stdout",
     "output_type": "stream",
     "text": [
      "<class 'pandas.core.frame.DataFrame'>\n",
      "RangeIndex: 21597 entries, 0 to 21596\n",
      "Data columns (total 14 columns):\n",
      "price            21597 non-null float64\n",
      "bedrooms         21597 non-null int64\n",
      "bathrooms        21597 non-null float64\n",
      "sqft_living      21597 non-null int64\n",
      "sqft_lot         21597 non-null int64\n",
      "floors           21597 non-null float64\n",
      "waterfront       21597 non-null category\n",
      "view             21597 non-null int64\n",
      "condition        21597 non-null category\n",
      "grade            21597 non-null category\n",
      "sqft_basement    21597 non-null int64\n",
      "yr_built         21597 non-null int64\n",
      "sqft_lot15       21597 non-null int64\n",
      "reno_year        21597 non-null category\n",
      "dtypes: category(4), float64(3), int64(7)\n",
      "memory usage: 1.7 MB\n"
     ]
    }
   ],
   "source": [
    "df.waterfront = df.waterfront.astype('category')\n",
    "df.condition = df.condition.astype('category')\n",
    "df.grade = df.grade.astype('category')\n",
    "\n",
    "df.info()"
   ]
  },
  {
   "cell_type": "markdown",
   "metadata": {},
   "source": [
    "## Part 5: Model!"
   ]
  },
  {
   "cell_type": "code",
   "execution_count": 62,
   "metadata": {},
   "outputs": [],
   "source": [
    "waterfront_dum = pd.get_dummies(df['waterfront'], prefix='wat_front', drop_first=True)\n",
    "condition_dum = pd.get_dummies(df['condition'], prefix='condition_dum', drop_first=True)\n",
    "grade_dum = pd.get_dummies(df['grade'], prefix='grade_dum', drop_first=True)\n",
    "reno_year_dum = pd.get_dummies(df['reno_year'], prefix='reno_yr', drop_first=True)"
   ]
  },
  {
   "cell_type": "code",
   "execution_count": 63,
   "metadata": {},
   "outputs": [],
   "source": [
    "df = df.drop(['waterfront', 'condition', 'grade', 'reno_year'], axis=1)"
   ]
  },
  {
   "cell_type": "code",
   "execution_count": 64,
   "metadata": {},
   "outputs": [
    {
     "name": "stdout",
     "output_type": "stream",
     "text": [
      "<class 'pandas.core.frame.DataFrame'>\n",
      "RangeIndex: 21597 entries, 0 to 21596\n",
      "Data columns (total 30 columns):\n",
      "price                  21597 non-null float64\n",
      "bedrooms               21597 non-null int64\n",
      "bathrooms              21597 non-null float64\n",
      "sqft_living            21597 non-null int64\n",
      "sqft_lot               21597 non-null int64\n",
      "floors                 21597 non-null float64\n",
      "view                   21597 non-null int64\n",
      "sqft_basement          21597 non-null int64\n",
      "yr_built               21597 non-null int64\n",
      "sqft_lot15             21597 non-null int64\n",
      "wat_front_1.0          21597 non-null uint8\n",
      "wat_front_nan          21597 non-null uint8\n",
      "condition_dum_2        21597 non-null uint8\n",
      "condition_dum_3        21597 non-null uint8\n",
      "condition_dum_4        21597 non-null uint8\n",
      "condition_dum_5        21597 non-null uint8\n",
      "grade_dum_11           21597 non-null uint8\n",
      "grade_dum_12           21597 non-null uint8\n",
      "grade_dum_13           21597 non-null uint8\n",
      "grade_dum_3            21597 non-null uint8\n",
      "grade_dum_4            21597 non-null uint8\n",
      "grade_dum_5            21597 non-null uint8\n",
      "grade_dum_6            21597 non-null uint8\n",
      "grade_dum_7            21597 non-null uint8\n",
      "grade_dum_8            21597 non-null uint8\n",
      "grade_dum_9            21597 non-null uint8\n",
      "reno_yr_before 1980    21597 non-null uint8\n",
      "reno_yr_1980-1989      21597 non-null uint8\n",
      "reno_yr_1990-1999      21597 non-null uint8\n",
      "reno_yr_2000-2015      21597 non-null uint8\n",
      "dtypes: float64(3), int64(7), uint8(20)\n",
      "memory usage: 2.1 MB\n"
     ]
    }
   ],
   "source": [
    "df = pd.concat([df, waterfront_dum, condition_dum, grade_dum, reno_year_dum], axis=1)\n",
    "df.columns\n",
    "df.info()"
   ]
  },
  {
   "cell_type": "code",
   "execution_count": 65,
   "metadata": {},
   "outputs": [],
   "source": [
    "df_cont = df[['sqft_living', 'sqft_lot', 'sqft_basement','bedrooms', 'bathrooms', 'floors', 'view', 'yr_built']]\n",
    "# df_cat = df[[waterfront_dum, condition_dum, grade_dum, reno_year_dum]]"
   ]
  },
  {
   "cell_type": "code",
   "execution_count": 66,
   "metadata": {},
   "outputs": [],
   "source": [
    "from sklearn.linear_model import LinearRegression"
   ]
  },
  {
   "cell_type": "code",
   "execution_count": 67,
   "metadata": {},
   "outputs": [],
   "source": [
    "y = df['price']\n",
    "linreg = LinearRegression()\n",
    "linreg.fit(df_cont, y);"
   ]
  },
  {
   "cell_type": "code",
   "execution_count": 68,
   "metadata": {},
   "outputs": [
    {
     "data": {
      "text/plain": [
       "array([ 2.86103420e+02, -3.60576375e-01, -3.52279228e+01, -5.85531011e+04,\n",
       "        6.42268657e+04,  4.55231505e+04,  8.54412384e+04, -3.06520376e+03])"
      ]
     },
     "execution_count": 68,
     "metadata": {},
     "output_type": "execute_result"
    }
   ],
   "source": [
    "linreg.coef_"
   ]
  },
  {
   "cell_type": "code",
   "execution_count": 69,
   "metadata": {},
   "outputs": [
    {
     "data": {
      "text/plain": [
       "5975813.898960503"
      ]
     },
     "execution_count": 69,
     "metadata": {},
     "output_type": "execute_result"
    }
   ],
   "source": [
    "linreg.intercept_"
   ]
  },
  {
   "cell_type": "code",
   "execution_count": 70,
   "metadata": {},
   "outputs": [
    {
     "name": "stdout",
     "output_type": "stream",
     "text": [
      "<class 'pandas.core.frame.DataFrame'>\n",
      "RangeIndex: 21597 entries, 0 to 21596\n",
      "Data columns (total 29 columns):\n",
      "bedrooms               21597 non-null int64\n",
      "bathrooms              21597 non-null float64\n",
      "sqft_living            21597 non-null int64\n",
      "sqft_lot               21597 non-null int64\n",
      "floors                 21597 non-null float64\n",
      "view                   21597 non-null int64\n",
      "sqft_basement          21597 non-null int64\n",
      "yr_built               21597 non-null int64\n",
      "sqft_lot15             21597 non-null int64\n",
      "wat_front_1.0          21597 non-null uint8\n",
      "wat_front_nan          21597 non-null uint8\n",
      "condition_dum_2        21597 non-null uint8\n",
      "condition_dum_3        21597 non-null uint8\n",
      "condition_dum_4        21597 non-null uint8\n",
      "condition_dum_5        21597 non-null uint8\n",
      "grade_dum_11           21597 non-null uint8\n",
      "grade_dum_12           21597 non-null uint8\n",
      "grade_dum_13           21597 non-null uint8\n",
      "grade_dum_3            21597 non-null uint8\n",
      "grade_dum_4            21597 non-null uint8\n",
      "grade_dum_5            21597 non-null uint8\n",
      "grade_dum_6            21597 non-null uint8\n",
      "grade_dum_7            21597 non-null uint8\n",
      "grade_dum_8            21597 non-null uint8\n",
      "grade_dum_9            21597 non-null uint8\n",
      "reno_yr_before 1980    21597 non-null uint8\n",
      "reno_yr_1980-1989      21597 non-null uint8\n",
      "reno_yr_1990-1999      21597 non-null uint8\n",
      "reno_yr_2000-2015      21597 non-null uint8\n",
      "dtypes: float64(2), int64(7), uint8(20)\n",
      "memory usage: 1.9 MB\n"
     ]
    }
   ],
   "source": [
    "predictors = df.drop(['price'], axis=1)\n",
    "predictors.info()"
   ]
  },
  {
   "cell_type": "code",
   "execution_count": 71,
   "metadata": {},
   "outputs": [
    {
     "data": {
      "text/html": [
       "<table class=\"simpletable\">\n",
       "<caption>OLS Regression Results</caption>\n",
       "<tr>\n",
       "  <th>Dep. Variable:</th>          <td>price</td>      <th>  R-squared:         </th>  <td>   0.682</td>  \n",
       "</tr>\n",
       "<tr>\n",
       "  <th>Model:</th>                   <td>OLS</td>       <th>  Adj. R-squared:    </th>  <td>   0.682</td>  \n",
       "</tr>\n",
       "<tr>\n",
       "  <th>Method:</th>             <td>Least Squares</td>  <th>  F-statistic:       </th>  <td>   1596.</td>  \n",
       "</tr>\n",
       "<tr>\n",
       "  <th>Date:</th>             <td>Fri, 04 Oct 2019</td> <th>  Prob (F-statistic):</th>   <td>  0.00</td>   \n",
       "</tr>\n",
       "<tr>\n",
       "  <th>Time:</th>                 <td>15:15:12</td>     <th>  Log-Likelihood:    </th> <td>-2.9502e+05</td>\n",
       "</tr>\n",
       "<tr>\n",
       "  <th>No. Observations:</th>      <td> 21597</td>      <th>  AIC:               </th>  <td>5.901e+05</td> \n",
       "</tr>\n",
       "<tr>\n",
       "  <th>Df Residuals:</th>          <td> 21567</td>      <th>  BIC:               </th>  <td>5.903e+05</td> \n",
       "</tr>\n",
       "<tr>\n",
       "  <th>Df Model:</th>              <td>    29</td>      <th>                     </th>      <td> </td>     \n",
       "</tr>\n",
       "<tr>\n",
       "  <th>Covariance Type:</th>      <td>nonrobust</td>    <th>                     </th>      <td> </td>     \n",
       "</tr>\n",
       "</table>\n",
       "<table class=\"simpletable\">\n",
       "<tr>\n",
       "           <td></td>              <th>coef</th>     <th>std err</th>      <th>t</th>      <th>P>|t|</th>  <th>[0.025</th>    <th>0.975]</th>  \n",
       "</tr>\n",
       "<tr>\n",
       "  <th>const</th>               <td> 6.577e+06</td> <td> 1.39e+05</td> <td>   47.226</td> <td> 0.000</td> <td>  6.3e+06</td> <td> 6.85e+06</td>\n",
       "</tr>\n",
       "<tr>\n",
       "  <th>bedrooms</th>            <td>-2.506e+04</td> <td> 1994.770</td> <td>  -12.565</td> <td> 0.000</td> <td> -2.9e+04</td> <td>-2.12e+04</td>\n",
       "</tr>\n",
       "<tr>\n",
       "  <th>bathrooms</th>           <td> 4.491e+04</td> <td> 3378.388</td> <td>   13.294</td> <td> 0.000</td> <td> 3.83e+04</td> <td> 5.15e+04</td>\n",
       "</tr>\n",
       "<tr>\n",
       "  <th>sqft_living</th>         <td>  131.1249</td> <td>    3.554</td> <td>   36.891</td> <td> 0.000</td> <td>  124.158</td> <td>  138.092</td>\n",
       "</tr>\n",
       "<tr>\n",
       "  <th>sqft_lot</th>            <td>   -0.0232</td> <td>    0.049</td> <td>   -0.473</td> <td> 0.636</td> <td>   -0.120</td> <td>    0.073</td>\n",
       "</tr>\n",
       "<tr>\n",
       "  <th>floors</th>              <td> 4.027e+04</td> <td> 3637.527</td> <td>   11.070</td> <td> 0.000</td> <td> 3.31e+04</td> <td> 4.74e+04</td>\n",
       "</tr>\n",
       "<tr>\n",
       "  <th>view</th>                <td> 4.281e+04</td> <td> 2147.415</td> <td>   19.937</td> <td> 0.000</td> <td> 3.86e+04</td> <td>  4.7e+04</td>\n",
       "</tr>\n",
       "<tr>\n",
       "  <th>sqft_basement</th>       <td>   26.1618</td> <td>    4.333</td> <td>    6.037</td> <td> 0.000</td> <td>   17.668</td> <td>   34.656</td>\n",
       "</tr>\n",
       "<tr>\n",
       "  <th>yr_built</th>            <td>-3097.1940</td> <td>   68.900</td> <td>  -44.952</td> <td> 0.000</td> <td>-3232.243</td> <td>-2962.145</td>\n",
       "</tr>\n",
       "<tr>\n",
       "  <th>sqft_lot15</th>          <td>   -0.5015</td> <td>    0.075</td> <td>   -6.679</td> <td> 0.000</td> <td>   -0.649</td> <td>   -0.354</td>\n",
       "</tr>\n",
       "<tr>\n",
       "  <th>wat_front_1.0</th>       <td> 5.938e+05</td> <td> 1.87e+04</td> <td>   31.704</td> <td> 0.000</td> <td> 5.57e+05</td> <td> 6.31e+05</td>\n",
       "</tr>\n",
       "<tr>\n",
       "  <th>wat_front_nan</th>       <td>-2045.7252</td> <td> 4512.092</td> <td>   -0.453</td> <td> 0.650</td> <td>-1.09e+04</td> <td> 6798.309</td>\n",
       "</tr>\n",
       "<tr>\n",
       "  <th>condition_dum_2</th>     <td> 8644.7814</td> <td> 4.18e+04</td> <td>    0.207</td> <td> 0.836</td> <td>-7.32e+04</td> <td> 9.05e+04</td>\n",
       "</tr>\n",
       "<tr>\n",
       "  <th>condition_dum_3</th>     <td> 3.328e+04</td> <td> 3.89e+04</td> <td>    0.856</td> <td> 0.392</td> <td>-4.29e+04</td> <td> 1.09e+05</td>\n",
       "</tr>\n",
       "<tr>\n",
       "  <th>condition_dum_4</th>     <td> 5.411e+04</td> <td> 3.89e+04</td> <td>    1.392</td> <td> 0.164</td> <td>-2.21e+04</td> <td>  1.3e+05</td>\n",
       "</tr>\n",
       "<tr>\n",
       "  <th>condition_dum_5</th>     <td> 9.406e+04</td> <td> 3.91e+04</td> <td>    2.406</td> <td> 0.016</td> <td> 1.74e+04</td> <td> 1.71e+05</td>\n",
       "</tr>\n",
       "<tr>\n",
       "  <th>grade_dum_11</th>        <td>  2.73e+05</td> <td> 1.23e+04</td> <td>   22.162</td> <td> 0.000</td> <td> 2.49e+05</td> <td> 2.97e+05</td>\n",
       "</tr>\n",
       "<tr>\n",
       "  <th>grade_dum_12</th>        <td> 7.506e+05</td> <td> 2.35e+04</td> <td>   31.929</td> <td> 0.000</td> <td> 7.05e+05</td> <td> 7.97e+05</td>\n",
       "</tr>\n",
       "<tr>\n",
       "  <th>grade_dum_13</th>        <td> 1.942e+06</td> <td> 5.89e+04</td> <td>   32.969</td> <td> 0.000</td> <td> 1.83e+06</td> <td> 2.06e+06</td>\n",
       "</tr>\n",
       "<tr>\n",
       "  <th>grade_dum_3</th>         <td>-5.726e+05</td> <td> 2.08e+05</td> <td>   -2.758</td> <td> 0.006</td> <td> -9.8e+05</td> <td>-1.66e+05</td>\n",
       "</tr>\n",
       "<tr>\n",
       "  <th>grade_dum_4</th>         <td>-5.349e+05</td> <td> 4.12e+04</td> <td>  -12.980</td> <td> 0.000</td> <td>-6.16e+05</td> <td>-4.54e+05</td>\n",
       "</tr>\n",
       "<tr>\n",
       "  <th>grade_dum_5</th>         <td>-5.511e+05</td> <td> 1.64e+04</td> <td>  -33.521</td> <td> 0.000</td> <td>-5.83e+05</td> <td>-5.19e+05</td>\n",
       "</tr>\n",
       "<tr>\n",
       "  <th>grade_dum_6</th>         <td>-4.993e+05</td> <td> 1.02e+04</td> <td>  -48.987</td> <td> 0.000</td> <td>-5.19e+05</td> <td>-4.79e+05</td>\n",
       "</tr>\n",
       "<tr>\n",
       "  <th>grade_dum_7</th>         <td>-4.198e+05</td> <td> 8441.233</td> <td>  -49.732</td> <td> 0.000</td> <td>-4.36e+05</td> <td>-4.03e+05</td>\n",
       "</tr>\n",
       "<tr>\n",
       "  <th>grade_dum_8</th>         <td>-3.313e+05</td> <td> 7724.515</td> <td>  -42.895</td> <td> 0.000</td> <td>-3.46e+05</td> <td>-3.16e+05</td>\n",
       "</tr>\n",
       "<tr>\n",
       "  <th>grade_dum_9</th>         <td>-1.847e+05</td> <td> 7608.297</td> <td>  -24.271</td> <td> 0.000</td> <td>   -2e+05</td> <td> -1.7e+05</td>\n",
       "</tr>\n",
       "<tr>\n",
       "  <th>reno_yr_before 1980</th> <td>-7.549e+04</td> <td> 2.22e+04</td> <td>   -3.403</td> <td> 0.001</td> <td>-1.19e+05</td> <td> -3.2e+04</td>\n",
       "</tr>\n",
       "<tr>\n",
       "  <th>reno_yr_1980-1989</th>   <td>-6021.4112</td> <td> 1.89e+04</td> <td>   -0.319</td> <td> 0.750</td> <td>-4.31e+04</td> <td>  3.1e+04</td>\n",
       "</tr>\n",
       "<tr>\n",
       "  <th>reno_yr_1990-1999</th>   <td> 3.405e+04</td> <td> 1.76e+04</td> <td>    1.931</td> <td> 0.053</td> <td> -511.949</td> <td> 6.86e+04</td>\n",
       "</tr>\n",
       "<tr>\n",
       "  <th>reno_yr_2000-2015</th>   <td> 1.039e+05</td> <td> 1.13e+04</td> <td>    9.167</td> <td> 0.000</td> <td> 8.17e+04</td> <td> 1.26e+05</td>\n",
       "</tr>\n",
       "</table>\n",
       "<table class=\"simpletable\">\n",
       "<tr>\n",
       "  <th>Omnibus:</th>       <td>12333.448</td> <th>  Durbin-Watson:     </th>  <td>   1.975</td> \n",
       "</tr>\n",
       "<tr>\n",
       "  <th>Prob(Omnibus):</th>  <td> 0.000</td>   <th>  Jarque-Bera (JB):  </th> <td>434861.600</td>\n",
       "</tr>\n",
       "<tr>\n",
       "  <th>Skew:</th>           <td> 2.152</td>   <th>  Prob(JB):          </th>  <td>    0.00</td> \n",
       "</tr>\n",
       "<tr>\n",
       "  <th>Kurtosis:</th>       <td>24.557</td>   <th>  Cond. No.          </th>  <td>7.44e+06</td> \n",
       "</tr>\n",
       "</table><br/><br/>Warnings:<br/>[1] Standard Errors assume that the covariance matrix of the errors is correctly specified.<br/>[2] The condition number is large, 7.44e+06. This might indicate that there are<br/>strong multicollinearity or other numerical problems."
      ],
      "text/plain": [
       "<class 'statsmodels.iolib.summary.Summary'>\n",
       "\"\"\"\n",
       "                            OLS Regression Results                            \n",
       "==============================================================================\n",
       "Dep. Variable:                  price   R-squared:                       0.682\n",
       "Model:                            OLS   Adj. R-squared:                  0.682\n",
       "Method:                 Least Squares   F-statistic:                     1596.\n",
       "Date:                Fri, 04 Oct 2019   Prob (F-statistic):               0.00\n",
       "Time:                        15:15:12   Log-Likelihood:            -2.9502e+05\n",
       "No. Observations:               21597   AIC:                         5.901e+05\n",
       "Df Residuals:                   21567   BIC:                         5.903e+05\n",
       "Df Model:                          29                                         \n",
       "Covariance Type:            nonrobust                                         \n",
       "=======================================================================================\n",
       "                          coef    std err          t      P>|t|      [0.025      0.975]\n",
       "---------------------------------------------------------------------------------------\n",
       "const                6.577e+06   1.39e+05     47.226      0.000     6.3e+06    6.85e+06\n",
       "bedrooms            -2.506e+04   1994.770    -12.565      0.000    -2.9e+04   -2.12e+04\n",
       "bathrooms            4.491e+04   3378.388     13.294      0.000    3.83e+04    5.15e+04\n",
       "sqft_living           131.1249      3.554     36.891      0.000     124.158     138.092\n",
       "sqft_lot               -0.0232      0.049     -0.473      0.636      -0.120       0.073\n",
       "floors               4.027e+04   3637.527     11.070      0.000    3.31e+04    4.74e+04\n",
       "view                 4.281e+04   2147.415     19.937      0.000    3.86e+04     4.7e+04\n",
       "sqft_basement          26.1618      4.333      6.037      0.000      17.668      34.656\n",
       "yr_built            -3097.1940     68.900    -44.952      0.000   -3232.243   -2962.145\n",
       "sqft_lot15             -0.5015      0.075     -6.679      0.000      -0.649      -0.354\n",
       "wat_front_1.0        5.938e+05   1.87e+04     31.704      0.000    5.57e+05    6.31e+05\n",
       "wat_front_nan       -2045.7252   4512.092     -0.453      0.650   -1.09e+04    6798.309\n",
       "condition_dum_2      8644.7814   4.18e+04      0.207      0.836   -7.32e+04    9.05e+04\n",
       "condition_dum_3      3.328e+04   3.89e+04      0.856      0.392   -4.29e+04    1.09e+05\n",
       "condition_dum_4      5.411e+04   3.89e+04      1.392      0.164   -2.21e+04     1.3e+05\n",
       "condition_dum_5      9.406e+04   3.91e+04      2.406      0.016    1.74e+04    1.71e+05\n",
       "grade_dum_11          2.73e+05   1.23e+04     22.162      0.000    2.49e+05    2.97e+05\n",
       "grade_dum_12         7.506e+05   2.35e+04     31.929      0.000    7.05e+05    7.97e+05\n",
       "grade_dum_13         1.942e+06   5.89e+04     32.969      0.000    1.83e+06    2.06e+06\n",
       "grade_dum_3         -5.726e+05   2.08e+05     -2.758      0.006    -9.8e+05   -1.66e+05\n",
       "grade_dum_4         -5.349e+05   4.12e+04    -12.980      0.000   -6.16e+05   -4.54e+05\n",
       "grade_dum_5         -5.511e+05   1.64e+04    -33.521      0.000   -5.83e+05   -5.19e+05\n",
       "grade_dum_6         -4.993e+05   1.02e+04    -48.987      0.000   -5.19e+05   -4.79e+05\n",
       "grade_dum_7         -4.198e+05   8441.233    -49.732      0.000   -4.36e+05   -4.03e+05\n",
       "grade_dum_8         -3.313e+05   7724.515    -42.895      0.000   -3.46e+05   -3.16e+05\n",
       "grade_dum_9         -1.847e+05   7608.297    -24.271      0.000      -2e+05    -1.7e+05\n",
       "reno_yr_before 1980 -7.549e+04   2.22e+04     -3.403      0.001   -1.19e+05    -3.2e+04\n",
       "reno_yr_1980-1989   -6021.4112   1.89e+04     -0.319      0.750   -4.31e+04     3.1e+04\n",
       "reno_yr_1990-1999    3.405e+04   1.76e+04      1.931      0.053    -511.949    6.86e+04\n",
       "reno_yr_2000-2015    1.039e+05   1.13e+04      9.167      0.000    8.17e+04    1.26e+05\n",
       "==============================================================================\n",
       "Omnibus:                    12333.448   Durbin-Watson:                   1.975\n",
       "Prob(Omnibus):                  0.000   Jarque-Bera (JB):           434861.600\n",
       "Skew:                           2.152   Prob(JB):                         0.00\n",
       "Kurtosis:                      24.557   Cond. No.                     7.44e+06\n",
       "==============================================================================\n",
       "\n",
       "Warnings:\n",
       "[1] Standard Errors assume that the covariance matrix of the errors is correctly specified.\n",
       "[2] The condition number is large, 7.44e+06. This might indicate that there are\n",
       "strong multicollinearity or other numerical problems.\n",
       "\"\"\""
      ]
     },
     "execution_count": 71,
     "metadata": {},
     "output_type": "execute_result"
    }
   ],
   "source": [
    "import statsmodels.api as sm\n",
    "predictors_int = sm.add_constant(predictors)\n",
    "model = sm.OLS(df['price'],predictors_int).fit()\n",
    "model.summary()"
   ]
  },
  {
   "cell_type": "code",
   "execution_count": 72,
   "metadata": {},
   "outputs": [],
   "source": [
    "import statsmodels.api as sm\n",
    "\n",
    "def stepwise_selection(X, y, \n",
    "                       initial_list=[], \n",
    "                       threshold_in=0.01, \n",
    "                       threshold_out = 0.05, \n",
    "                       verbose=True):\n",
    "    \"\"\" Perform a forward-backward feature selection \n",
    "    based on p-value from statsmodels.api.OLS\n",
    "    Arguments:\n",
    "        X - pandas.DataFrame with candidate features\n",
    "        y - list-like with the target\n",
    "        initial_list - list of features to start with (column names of X)\n",
    "        threshold_in - include a feature if its p-value < threshold_in\n",
    "        threshold_out - exclude a feature if its p-value > threshold_out\n",
    "        verbose - whether to print the sequence of inclusions and exclusions\n",
    "    Returns: list of selected features \n",
    "    Always set threshold_in < threshold_out to avoid infinite looping.\n",
    "    See https://en.wikipedia.org/wiki/Stepwise_regression for the details\n",
    "    \"\"\"\n",
    "    included = list(initial_list)\n",
    "    while True:\n",
    "        changed=False\n",
    "        # forward step\n",
    "        excluded = list(set(X.columns)-set(included))\n",
    "        new_pval = pd.Series(index=excluded)\n",
    "        for new_column in excluded:\n",
    "            model = sm.OLS(y, sm.add_constant(pd.DataFrame(X[included+[new_column]]))).fit()\n",
    "            new_pval[new_column] = model.pvalues[new_column]\n",
    "        best_pval = new_pval.min()\n",
    "        if best_pval < threshold_in:\n",
    "            best_feature = new_pval.idxmin()\n",
    "            included.append(best_feature)\n",
    "            changed=True\n",
    "            if verbose:\n",
    "                print('Add  {:30} with p-value {:.6}'.format(best_feature, best_pval))\n",
    "\n",
    "        # backward step\n",
    "        model = sm.OLS(y, sm.add_constant(pd.DataFrame(X[included]))).fit()\n",
    "        # use all coefs except intercept\n",
    "        pvalues = model.pvalues.iloc[1:]\n",
    "        worst_pval = pvalues.max() # null if pvalues is empty\n",
    "        if worst_pval > threshold_out:\n",
    "            changed=True\n",
    "            worst_feature = pvalues.argmax()\n",
    "            included.remove(worst_feature)\n",
    "            if verbose:\n",
    "                print('Drop {:30} with p-value {:.6}'.format(worst_feature, worst_pval))\n",
    "        if not changed:\n",
    "            break\n",
    "    return included### Feature Selection\n"
   ]
  },
  {
   "cell_type": "code",
   "execution_count": 73,
   "metadata": {},
   "outputs": [
    {
     "name": "stdout",
     "output_type": "stream",
     "text": [
      "Add  bedrooms                       with p-value 0.0\n",
      "Add  view                           with p-value 0.0\n",
      "Add  bathrooms                      with p-value 0.0\n",
      "Add  sqft_living                    with p-value 0.0\n",
      "Add  yr_built                       with p-value 0.0\n",
      "Add  wat_front_1.0                  with p-value 4.04019e-167\n",
      "Add  grade_dum_12                   with p-value 1.16511e-118\n",
      "Add  grade_dum_11                   with p-value 4.57771e-152\n",
      "Add  grade_dum_13                   with p-value 1.7117e-157\n",
      "Add  grade_dum_9                    with p-value 3.19503e-81\n",
      "Add  floors                         with p-value 8.26688e-60\n",
      "Add  grade_dum_6                    with p-value 1.66478e-34\n",
      "Add  grade_dum_7                    with p-value 1.3337e-101\n",
      "Add  grade_dum_8                    with p-value 1.57914e-160\n",
      "Add  grade_dum_5                    with p-value 5.21469e-220\n",
      "Add  grade_dum_4                    with p-value 5.11267e-39\n",
      "Add  sqft_lot15                     with p-value 1.14488e-25\n",
      "Add  condition_dum_5                with p-value 1.61728e-19\n",
      "Add  reno_yr_2000-2015              with p-value 3.81009e-18\n",
      "Add  sqft_basement                  with p-value 5.91122e-10\n",
      "Add  condition_dum_4                with p-value 1.30658e-09\n",
      "Add  reno_yr_before 1980            with p-value 0.00058518\n",
      "Add  grade_dum_3                    with p-value 0.0058342\n",
      "resulting features:\n",
      "['bedrooms', 'view', 'bathrooms', 'sqft_living', 'yr_built', 'wat_front_1.0', 'grade_dum_12', 'grade_dum_11', 'grade_dum_13', 'grade_dum_9', 'floors', 'grade_dum_6', 'grade_dum_7', 'grade_dum_8', 'grade_dum_5', 'grade_dum_4', 'sqft_lot15', 'condition_dum_5', 'reno_yr_2000-2015', 'sqft_basement', 'condition_dum_4', 'reno_yr_before 1980', 'grade_dum_3']\n"
     ]
    }
   ],
   "source": [
    "result = stepwise_selection(predictors, df[\"price\"], verbose = True)\n",
    "print('resulting features:')\n",
    "print(result)"
   ]
  },
  {
   "cell_type": "code",
   "execution_count": 74,
   "metadata": {},
   "outputs": [],
   "source": [
    "from sklearn.feature_selection import RFE\n",
    "from sklearn.linear_model import LinearRegression\n",
    "\n",
    "X = predictors\n",
    "y = df['price']\n",
    "\n",
    "linreg = LinearRegression()\n",
    "selector = RFE(linreg, n_features_to_select = 3)\n",
    "selector = selector.fit(predictors, df[\"price\"])"
   ]
  },
  {
   "cell_type": "code",
   "execution_count": 75,
   "metadata": {},
   "outputs": [
    {
     "name": "stdout",
     "output_type": "stream",
     "text": [
      "<class 'pandas.core.frame.DataFrame'>\n",
      "RangeIndex: 21597 entries, 0 to 21596\n",
      "Data columns (total 30 columns):\n",
      "price                  21597 non-null float64\n",
      "bedrooms               21597 non-null int64\n",
      "bathrooms              21597 non-null float64\n",
      "sqft_living            21597 non-null int64\n",
      "sqft_lot               21597 non-null int64\n",
      "floors                 21597 non-null float64\n",
      "view                   21597 non-null int64\n",
      "sqft_basement          21597 non-null int64\n",
      "yr_built               21597 non-null int64\n",
      "sqft_lot15             21597 non-null int64\n",
      "wat_front_1.0          21597 non-null uint8\n",
      "wat_front_nan          21597 non-null uint8\n",
      "condition_dum_2        21597 non-null uint8\n",
      "condition_dum_3        21597 non-null uint8\n",
      "condition_dum_4        21597 non-null uint8\n",
      "condition_dum_5        21597 non-null uint8\n",
      "grade_dum_11           21597 non-null uint8\n",
      "grade_dum_12           21597 non-null uint8\n",
      "grade_dum_13           21597 non-null uint8\n",
      "grade_dum_3            21597 non-null uint8\n",
      "grade_dum_4            21597 non-null uint8\n",
      "grade_dum_5            21597 non-null uint8\n",
      "grade_dum_6            21597 non-null uint8\n",
      "grade_dum_7            21597 non-null uint8\n",
      "grade_dum_8            21597 non-null uint8\n",
      "grade_dum_9            21597 non-null uint8\n",
      "reno_yr_before 1980    21597 non-null uint8\n",
      "reno_yr_1980-1989      21597 non-null uint8\n",
      "reno_yr_1990-1999      21597 non-null uint8\n",
      "reno_yr_2000-2015      21597 non-null uint8\n",
      "dtypes: float64(3), int64(7), uint8(20)\n",
      "memory usage: 2.1 MB\n"
     ]
    }
   ],
   "source": [
    "df.info()"
   ]
  },
  {
   "cell_type": "code",
   "execution_count": 76,
   "metadata": {},
   "outputs": [
    {
     "data": {
      "text/plain": [
       "array([False, False, False, False, False, False, False, False, False,\n",
       "        True, False, False, False, False, False, False,  True,  True,\n",
       "       False, False, False, False, False, False, False, False, False,\n",
       "       False, False])"
      ]
     },
     "execution_count": 76,
     "metadata": {},
     "output_type": "execute_result"
    }
   ],
   "source": [
    "selector.support_"
   ]
  },
  {
   "cell_type": "code",
   "execution_count": 77,
   "metadata": {},
   "outputs": [
    {
     "data": {
      "text/plain": [
       "array([17, 14, 24, 27, 19, 15, 25, 20, 26,  1, 21, 22, 18, 13, 12,  2,  1,\n",
       "        1,  5,  3,  4,  6,  7,  8,  9, 16, 23, 11, 10])"
      ]
     },
     "execution_count": 77,
     "metadata": {},
     "output_type": "execute_result"
    }
   ],
   "source": [
    "selector.ranking_"
   ]
  },
  {
   "cell_type": "code",
   "execution_count": 78,
   "metadata": {},
   "outputs": [
    {
     "name": "stdout",
     "output_type": "stream",
     "text": [
      "[1086022.44406155 1555877.78583992 3186143.92043621]\n",
      "524625.3103329903\n"
     ]
    }
   ],
   "source": [
    "estimators = selector.estimator_\n",
    "print(estimators.coef_)\n",
    "print(estimators.intercept_)"
   ]
  },
  {
   "cell_type": "code",
   "execution_count": 79,
   "metadata": {},
   "outputs": [
    {
     "data": {
      "text/plain": [
       "LinearRegression(copy_X=True, fit_intercept=True, n_jobs=None, normalize=False)"
      ]
     },
     "execution_count": 79,
     "metadata": {},
     "output_type": "execute_result"
    }
   ],
   "source": [
    "new_columns = X.columns[selector.support_]\n",
    "linreg.fit(X[new_columns], y)"
   ]
  },
  {
   "cell_type": "code",
   "execution_count": 80,
   "metadata": {},
   "outputs": [],
   "source": [
    "y_hat = linreg.predict(X[new_columns])"
   ]
  },
  {
   "cell_type": "code",
   "execution_count": 81,
   "metadata": {},
   "outputs": [],
   "source": [
    "SSR = np.sum((y - y_hat)**2)\n",
    "SST = np.sum((y - np.mean(y))**2)\n",
    "Rsq = 1 - (float(SSR)) / SST\n",
    "Rsq_adj = 1 - (1 - Rsq)*(len(y)-1)/(len(y) - X[new_columns].shape[1] - 1)"
   ]
  },
  {
   "cell_type": "code",
   "execution_count": 82,
   "metadata": {},
   "outputs": [],
   "source": [
    "from sklearn.model_selection import train_test_split"
   ]
  },
  {
   "cell_type": "code",
   "execution_count": 97,
   "metadata": {},
   "outputs": [],
   "source": [
    "test_col = ['grade_dum_11', 'grade_dum_7', 'grade_dum_6', 'wat_front_1.0', 'sqft_living', 'yr_built', 'grade_dum_12', 'grade_dum_13', 'grade_dum_8', 'grade_dum_5', 'grade_dum_9', 'view', 'bathrooms', 'grade_dum_4', 'bedrooms', 'floors', 'condition_dum_5', 'reno_yr_1980-1989', 'sqft_lot', 'sqft_basement', 'condition_dum_4', 'reno_yr_2000-2015', 'grade_dum_3']\n",
    "X = df[test_col]\n",
    "y = df.price"
   ]
  },
  {
   "cell_type": "code",
   "execution_count": 98,
   "metadata": {},
   "outputs": [
    {
     "name": "stdout",
     "output_type": "stream",
     "text": [
      "(17277, 23) (17277,)\n",
      "(4320, 23) (4320,)\n"
     ]
    }
   ],
   "source": [
    "X_train, X_test, y_train, y_test = train_test_split(X, y, test_size=0.2, random_state=42)\n",
    "print (X_train.shape, y_train.shape)\n",
    "print (X_test.shape, y_test.shape)"
   ]
  },
  {
   "cell_type": "code",
   "execution_count": 100,
   "metadata": {},
   "outputs": [],
   "source": [
    "from sklearn.linear_model import LinearRegression\n",
    "linreg = LinearRegression()\n",
    "linreg.fit(X_train, y_train)\n",
    "\n",
    "y_hat_train = linreg.predict(X_train)\n",
    "y_hat_test = linreg.predict(X_test)"
   ]
  },
  {
   "cell_type": "code",
   "execution_count": 86,
   "metadata": {},
   "outputs": [],
   "source": [
    "train_residuals = y_hat_train - y_train\n",
    "test_residuals = y_hat_test - y_test"
   ]
  },
  {
   "cell_type": "code",
   "execution_count": 87,
   "metadata": {},
   "outputs": [
    {
     "name": "stdout",
     "output_type": "stream",
     "text": [
      "Train Mean Squarred Error: 42271596281.08306\n",
      "Test Mean Squarred Error: 45669155818.93459\n"
     ]
    }
   ],
   "source": [
    "from sklearn.metrics import mean_squared_error\n",
    "\n",
    "train_mse = mean_squared_error(y_train, y_hat_train)\n",
    "test_mse = mean_squared_error(y_test, y_hat_test)\n",
    "print('Train Mean Squarred Error:', train_mse)\n",
    "print('Test Mean Squarred Error:', test_mse)"
   ]
  },
  {
   "cell_type": "code",
   "execution_count": 88,
   "metadata": {},
   "outputs": [
    {
     "name": "stdout",
     "output_type": "stream",
     "text": [
      "Estimated R²:\n",
      "0.6817323785773188\n"
     ]
    },
    {
     "data": {
      "text/html": [
       "<div>\n",
       "<style scoped>\n",
       "    .dataframe tbody tr th:only-of-type {\n",
       "        vertical-align: middle;\n",
       "    }\n",
       "\n",
       "    .dataframe tbody tr th {\n",
       "        vertical-align: top;\n",
       "    }\n",
       "\n",
       "    .dataframe thead th {\n",
       "        text-align: right;\n",
       "    }\n",
       "</style>\n",
       "<table border=\"1\" class=\"dataframe\">\n",
       "  <thead>\n",
       "    <tr style=\"text-align: right;\">\n",
       "      <th></th>\n",
       "      <th>Features</th>\n",
       "      <th>Estimated Coefficient</th>\n",
       "    </tr>\n",
       "  </thead>\n",
       "  <tbody>\n",
       "    <tr>\n",
       "      <th>0</th>\n",
       "      <td>grade_dum_11</td>\n",
       "      <td>-2.713758e+04</td>\n",
       "    </tr>\n",
       "    <tr>\n",
       "      <th>1</th>\n",
       "      <td>grade_dum_7</td>\n",
       "      <td>4.702926e+04</td>\n",
       "    </tr>\n",
       "    <tr>\n",
       "      <th>2</th>\n",
       "      <td>grade_dum_6</td>\n",
       "      <td>1.287639e+02</td>\n",
       "    </tr>\n",
       "    <tr>\n",
       "      <th>3</th>\n",
       "      <td>wat_front_1.0</td>\n",
       "      <td>-2.918245e-02</td>\n",
       "    </tr>\n",
       "    <tr>\n",
       "      <th>4</th>\n",
       "      <td>sqft_living</td>\n",
       "      <td>4.248894e+04</td>\n",
       "    </tr>\n",
       "    <tr>\n",
       "      <th>5</th>\n",
       "      <td>yr_built</td>\n",
       "      <td>4.263977e+04</td>\n",
       "    </tr>\n",
       "    <tr>\n",
       "      <th>6</th>\n",
       "      <td>grade_dum_12</td>\n",
       "      <td>2.955463e+01</td>\n",
       "    </tr>\n",
       "    <tr>\n",
       "      <th>7</th>\n",
       "      <td>grade_dum_13</td>\n",
       "      <td>-3.129993e+03</td>\n",
       "    </tr>\n",
       "    <tr>\n",
       "      <th>8</th>\n",
       "      <td>grade_dum_8</td>\n",
       "      <td>-5.397719e-01</td>\n",
       "    </tr>\n",
       "    <tr>\n",
       "      <th>9</th>\n",
       "      <td>grade_dum_5</td>\n",
       "      <td>5.826623e+05</td>\n",
       "    </tr>\n",
       "    <tr>\n",
       "      <th>10</th>\n",
       "      <td>grade_dum_9</td>\n",
       "      <td>-2.248533e+03</td>\n",
       "    </tr>\n",
       "    <tr>\n",
       "      <th>11</th>\n",
       "      <td>view</td>\n",
       "      <td>3.346795e+04</td>\n",
       "    </tr>\n",
       "    <tr>\n",
       "      <th>12</th>\n",
       "      <td>bathrooms</td>\n",
       "      <td>5.178390e+04</td>\n",
       "    </tr>\n",
       "    <tr>\n",
       "      <th>13</th>\n",
       "      <td>grade_dum_4</td>\n",
       "      <td>7.258354e+04</td>\n",
       "    </tr>\n",
       "    <tr>\n",
       "      <th>14</th>\n",
       "      <td>bedrooms</td>\n",
       "      <td>1.159111e+05</td>\n",
       "    </tr>\n",
       "    <tr>\n",
       "      <th>15</th>\n",
       "      <td>floors</td>\n",
       "      <td>2.795810e+05</td>\n",
       "    </tr>\n",
       "    <tr>\n",
       "      <th>16</th>\n",
       "      <td>condition_dum_5</td>\n",
       "      <td>7.605770e+05</td>\n",
       "    </tr>\n",
       "    <tr>\n",
       "      <th>17</th>\n",
       "      <td>reno_yr_2000-2010</td>\n",
       "      <td>2.179279e+06</td>\n",
       "    </tr>\n",
       "    <tr>\n",
       "      <th>18</th>\n",
       "      <td>sqft_lot</td>\n",
       "      <td>-5.840885e+05</td>\n",
       "    </tr>\n",
       "    <tr>\n",
       "      <th>19</th>\n",
       "      <td>sqft_basement</td>\n",
       "      <td>-5.637564e+05</td>\n",
       "    </tr>\n",
       "    <tr>\n",
       "      <th>20</th>\n",
       "      <td>condition_dum_4</td>\n",
       "      <td>-5.489227e+05</td>\n",
       "    </tr>\n",
       "    <tr>\n",
       "      <th>21</th>\n",
       "      <td>reno_yr_after 2010</td>\n",
       "      <td>-5.029853e+05</td>\n",
       "    </tr>\n",
       "    <tr>\n",
       "      <th>22</th>\n",
       "      <td>grade_dum_3</td>\n",
       "      <td>-4.226328e+05</td>\n",
       "    </tr>\n",
       "  </tbody>\n",
       "</table>\n",
       "</div>"
      ],
      "text/plain": [
       "              Features  Estimated Coefficient\n",
       "0         grade_dum_11          -2.713758e+04\n",
       "1          grade_dum_7           4.702926e+04\n",
       "2          grade_dum_6           1.287639e+02\n",
       "3        wat_front_1.0          -2.918245e-02\n",
       "4          sqft_living           4.248894e+04\n",
       "5             yr_built           4.263977e+04\n",
       "6         grade_dum_12           2.955463e+01\n",
       "7         grade_dum_13          -3.129993e+03\n",
       "8          grade_dum_8          -5.397719e-01\n",
       "9          grade_dum_5           5.826623e+05\n",
       "10         grade_dum_9          -2.248533e+03\n",
       "11                view           3.346795e+04\n",
       "12           bathrooms           5.178390e+04\n",
       "13         grade_dum_4           7.258354e+04\n",
       "14            bedrooms           1.159111e+05\n",
       "15              floors           2.795810e+05\n",
       "16     condition_dum_5           7.605770e+05\n",
       "17   reno_yr_2000-2010           2.179279e+06\n",
       "18            sqft_lot          -5.840885e+05\n",
       "19       sqft_basement          -5.637564e+05\n",
       "20     condition_dum_4          -5.489227e+05\n",
       "21  reno_yr_after 2010          -5.029853e+05\n",
       "22         grade_dum_3          -4.226328e+05"
      ]
     },
     "execution_count": 88,
     "metadata": {},
     "output_type": "execute_result"
    }
   ],
   "source": [
    "model = LinearRegression()\n",
    "model.fit(X_train, y_train)\n",
    "\n",
    "# print R²\n",
    "print(\"Estimated R²:\")\n",
    "print(linreg.score(X,y))\n",
    "\n",
    "# pair the feature names with the coefficients into a dataframe\n",
    "pd.DataFrame(list(zip(test_col, linreg.coef_)), columns=['Features', 'Estimated Coefficient'])"
   ]
  },
  {
   "cell_type": "code",
   "execution_count": 89,
   "metadata": {},
   "outputs": [],
   "source": [
    "from sklearn import linear_model"
   ]
  },
  {
   "cell_type": "code",
   "execution_count": 90,
   "metadata": {},
   "outputs": [],
   "source": [
    "lm = linear_model.LinearRegression()\n",
    "model = lm.fit(X_train, y_train)\n",
    "predictions = lm.predict(X_test)"
   ]
  },
  {
   "cell_type": "code",
   "execution_count": 91,
   "metadata": {},
   "outputs": [
    {
     "data": {
      "image/png": "[encoded data removed]",
      "text/plain": [
       "<Figure size 432x288 with 1 Axes>"
      ]
     },
     "metadata": {
      "needs_background": "light"
     },
     "output_type": "display_data"
    }
   ],
   "source": [
    "plt.scatter(y_test, predictions)\n",
    "plt.xlabel('True y')\n",
    "plt.ylabel('Predicted y')\n",
    "plt.show()"
   ]
  },
  {
   "cell_type": "code",
   "execution_count": 92,
   "metadata": {},
   "outputs": [
    {
     "data": {
      "image/png": "[encoded data removed]",
      "text/plain": [
       "<Figure size 1440x432 with 4 Axes>"
      ]
     },
     "metadata": {
      "needs_background": "light"
     },
     "output_type": "display_data"
    }
   ],
   "source": [
    "# apply the model to predict prices for test data\n",
    "y_pred_test = lm.predict(X_test)\n",
    "\n",
    "fig, ax = plt.subplots(1,2, figsize=(20, 6))\n",
    "\n",
    "# visualize the differences between actual values and predicted values in TEST data\n",
    "ax1 = fig.add_subplot(121)\n",
    "ax1.scatter(y_test, y_pred_test, marker='.', c='navy')\n",
    "ax1.set_xlabel(\"\\nActual Prices\")\n",
    "ax1.set_ylabel(\"Predicted Prices\\n\")\n",
    "ax1.set_title(\"\\nActual Prices vs. Predicted Prices in Test Set\\n\", size=14, weight='bold')\n",
    "\n",
    "# apply the model to predict prices for test data\n",
    "y_pred_train = lm.predict(X_train)\n",
    "\n",
    "# visualize the differences between actual values and predicted values in TRAIN data\n",
    "ax2 = fig.add_subplot(122)\n",
    "ax2.scatter(y_train, y_pred_train, marker='.', c='grey')\n",
    "ax2.set_xlabel(\"\\nActual Prices\")\n",
    "ax2.set_ylabel(\"Predicted Prices\\n\")\n",
    "ax2.set_title(\"\\nActual Prices vs. Predicted Prices in Train Set\\n\", size=14, weight='bold');"
   ]
  },
  {
   "cell_type": "code",
   "execution_count": 93,
   "metadata": {},
   "outputs": [
    {
     "name": "stdout",
     "output_type": "stream",
     "text": [
      "Score: 0.6492822880582835\n"
     ]
    }
   ],
   "source": [
    "print ('Score:', model.score(X_test, y_test))  # R-squared is the default metric used by Sklearn."
   ]
  },
  {
   "cell_type": "code",
   "execution_count": 94,
   "metadata": {},
   "outputs": [
    {
     "name": "stdout",
     "output_type": "stream",
     "text": [
      "0.674701712019641\n",
      "0.6737652134661649\n",
      "0.6741279236559199\n"
     ]
    }
   ],
   "source": [
    "from sklearn.metrics import mean_squared_error\n",
    "from sklearn.model_selection import cross_val_score\n",
    "from sklearn.linear_model import LinearRegression\n",
    "linreg = LinearRegression()\n",
    "\n",
    "cv_5_results = np.mean(cross_val_score(model, X, y, cv=5, scoring=\"r2\"))\n",
    "cv_10_results = np.mean(cross_val_score(model, X, y, cv=10, scoring='r2'))\n",
    "cv_20_results = np.mean(cross_val_score(model, X, y, cv=20, scoring=\"r2\"))\n",
    "\n",
    "print(cv_5_results)\n",
    "print(cv_10_results)\n",
    "print(cv_20_results)"
   ]
  },
  {
   "cell_type": "code",
   "execution_count": 95,
   "metadata": {},
   "outputs": [
    {
     "name": "stdout",
     "output_type": "stream",
     "text": [
      "-43800739945.03728\n",
      "-43748376681.28904\n",
      "-43601382000.89774\n"
     ]
    }
   ],
   "source": [
    "mse_5_results = np.mean(cross_val_score(model, X, y, cv=5, scoring=\"neg_mean_squared_error\"))\n",
    "mse_10_results = np.mean(cross_val_score(model, X, y, cv=10, scoring=\"neg_mean_squared_error\"))\n",
    "mse_20_results = np.mean(cross_val_score(model, X, y, cv=20, scoring=\"neg_mean_squared_error\"))\n",
    "\n",
    "print(mse_5_results)\n",
    "print(mse_10_results)\n",
    "print(mse_20_results)"
   ]
  },
  {
   "cell_type": "markdown",
   "metadata": {},
   "source": [
    "Conclusion"
   ]
  },
  {
   "cell_type": "markdown",
   "metadata": {},
   "source": [
    "<br>1. Location is an influential factor when it comes to the price of a home. We concluded that homes with a waterfront were the most pricey.\n",
    "<br>2. The best time to sell a house is from late spring to early summer. This could be because of the weather up north, and that its when kids are getting out of school.\n",
    "<br>3. Grade also has an effect on the sale price. The higher the grade, the higher you can set the price for selling a home.\n",
    "<br>4. The square foot of the home, the amount of bedrooms/bathrooms, and whether a home was renovated or not also have effects on the sale price on a home."
   ]
  },
  {
   "cell_type": "code",
   "execution_count": null,
   "metadata": {},
   "outputs": [],
   "source": []
  }
 ],
 "metadata": {
  "kernelspec": {
   "display_name": "Python 3",
   "language": "python",
   "name": "python3"
  },
  "language_info": {
   "codemirror_mode": {
    "name": "ipython",
    "version": 3
   },
   "file_extension": ".py",
   "mimetype": "text/x-python",
   "name": "python",
   "nbconvert_exporter": "python",
   "pygments_lexer": "ipython3",
   "version": "3.6.6"
  }
 },
 "nbformat": 4,
 "nbformat_minor": 2
}
